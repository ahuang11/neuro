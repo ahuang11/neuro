{
 "cells": [
  {
   "cell_type": "markdown",
   "id": "9c51699f-08cf-4b76-a6fd-ee63767987cd",
   "metadata": {},
   "source": [
    "# Simulate EEG with MNE "
   ]
  },
  {
   "cell_type": "code",
   "execution_count": null,
   "id": "189ca305-abf2-420f-a20b-817535230447",
   "metadata": {
    "tags": []
   },
   "outputs": [],
   "source": [
    "from simulate_eeg import simulate_eeg\n",
    "import mne"
   ]
  },
  {
   "cell_type": "code",
   "execution_count": null,
   "id": "526cfff9-31e5-4a76-b54b-1a3bdea23315",
   "metadata": {
    "tags": []
   },
   "outputs": [],
   "source": [
    "eeg = simulate_eeg()"
   ]
  },
  {
   "cell_type": "code",
   "execution_count": null,
   "id": "9525a5d0-eb29-40e0-9ca5-0968524d8823",
   "metadata": {
    "tags": []
   },
   "outputs": [],
   "source": [
    "mne.viz.set_browser_backend('matplotlib')\n",
    "eeg.plot();"
   ]
  },
  {
   "cell_type": "code",
   "execution_count": null,
   "id": "ba969713-2615-4c3f-9cdf-07c90d7d41cf",
   "metadata": {},
   "outputs": [],
   "source": []
  },
  {
   "cell_type": "code",
   "execution_count": null,
   "id": "a5a499b1-783c-4121-b442-7567ff297d39",
   "metadata": {},
   "outputs": [],
   "source": []
  },
  {
   "cell_type": "code",
   "execution_count": null,
   "id": "cd08ea0e-aca0-499e-921f-cf406b663d90",
   "metadata": {},
   "outputs": [],
   "source": []
  },
  {
   "cell_type": "code",
   "execution_count": null,
   "id": "f3f2c7a2-fd6b-4092-a8db-53f35b5b814a",
   "metadata": {},
   "outputs": [],
   "source": []
  },
  {
   "cell_type": "markdown",
   "id": "cbdaf967-cb03-44e1-92c7-9cf0e0bffc97",
   "metadata": {},
   "source": [
    "## Scratch (ignore)"
   ]
  },
  {
   "cell_type": "markdown",
   "id": "b7acba1e-a719-4ff2-a8b8-6a19fe6edc7c",
   "metadata": {},
   "source": []
  },
  {
   "cell_type": "markdown",
   "id": "732b7023-3228-42bf-894b-1fadab78f625",
   "metadata": {
    "tags": []
   },
   "source": [
    "Requirements:\n",
    "- Easily adjust duration, num channels\n",
    "- sampling rate should either be adjustable or on the higher end of what's typically used\n",
    "- ideally there should be groups (EEG, MEG, misc bio sensors)\n",
    "\n",
    "Resources:\n",
    "- [Creating MNE-Python data structures from scratch](https://mne.tools/stable/auto_tutorials/simulation/10_array_objs.html#sphx-glr-auto-tutorials-simulation-10-array-objs-py)\n",
    "- [previous nb](2023-03-10_simdata_MNE_notes.ipynb)"
   ]
  },
  {
   "cell_type": "code",
   "execution_count": null,
   "id": "898c698a-64a3-49e9-b86b-04fe28169481",
   "metadata": {
    "tags": []
   },
   "outputs": [],
   "source": [
    "import numpy as np\n",
    "import mne\n",
    "\n",
    "def simulate_eeg(duration=10, n_channels=100, sfreq=1000):\n",
    "    \"\"\"\n",
    "    Simulate EEG data using the MNE toolbox as noisy sine waves.\n",
    "    For now, hard-coding the noise amplitude scaling and eeg data scaling.\n",
    "\n",
    "    Parameters:\n",
    "        duration (float): Duration of the simulated data in seconds.\n",
    "        n_channels (int): Number of EEG channels.\n",
    "        sfreq (float): Sampling frequency in Hz.\n",
    "\n",
    "    Returns:\n",
    "        mne.io.RawArray: Simulated EEG data as a `mne.io.RawArray` object.\n",
    "\n",
    "    \"\"\"\n",
    "\n",
    "    # Calculate the number of samples based on duration and sampling frequency\n",
    "    n_samples = int(duration * sfreq)\n",
    "\n",
    "    # Create a time vector for the EEG data\n",
    "    times = np.arange(n_samples) / sfreq\n",
    "\n",
    "    # Generate synthetic EEG data using sine waves\n",
    "    data = np.zeros((n_channels, n_samples))\n",
    "    for ch in range(n_channels):\n",
    "        # Generate a random frequency for each channel\n",
    "        freq = np.random.uniform(4, 30)\n",
    "        # Generate a sine wave for the channel\n",
    "        sine_wave = np.sin(2 * np.pi * freq * times)\n",
    "        # Add the sine wave to the channel's data\n",
    "        data[ch] = sine_wave\n",
    "\n",
    "    # Add noise to the data to make it more realistic\n",
    "    noise_amplitude = 0.2  # Adjust this parameter to control the noise level\n",
    "    noise = np.random.normal(scale=noise_amplitude, size=(n_channels, n_samples))\n",
    "    data += noise\n",
    "    \n",
    "    # There is some correction happening for 'eeg' 'ch_type' data that scales it up..\n",
    "    # so scale the data down first:\n",
    "    data = data * 1e-5\n",
    "\n",
    "    # Create a channel names list\n",
    "    ch_names = [f'EEG {i+1}' for i in range(n_channels)]\n",
    "\n",
    "    # Create an info object\n",
    "    info = mne.create_info(ch_names=ch_names, sfreq=sfreq, ch_types='eeg')\n",
    "\n",
    "    # Create a `mne.io.RawArray` object\n",
    "    raw = mne.io.RawArray(data, info)\n",
    "\n",
    "    return raw\n"
   ]
  },
  {
   "cell_type": "code",
   "execution_count": null,
   "id": "fc0d64b1-89f3-4beb-812a-bb75a904340d",
   "metadata": {
    "tags": []
   },
   "outputs": [],
   "source": [
    "simeeg = simulate_eeg()"
   ]
  },
  {
   "cell_type": "code",
   "execution_count": null,
   "id": "f66b4926-d3cb-467e-949b-7ab8d1aa1157",
   "metadata": {
    "tags": []
   },
   "outputs": [],
   "source": [
    "mne.viz.set_browser_backend('matplotlib')\n",
    "simeeg.plot();"
   ]
  },
  {
   "cell_type": "markdown",
   "id": "f1fbaa23-7c39-4955-affd-e95dc1e3cbac",
   "metadata": {},
   "source": [
    "## from script"
   ]
  },
  {
   "cell_type": "code",
   "execution_count": null,
   "id": "6e28a2d6-4e57-48db-a4fa-81da02c47757",
   "metadata": {
    "tags": []
   },
   "outputs": [],
   "source": [
    "import sys; sys.path.insert(0, '../..')\n",
    "from scripts.simdata import simulate_eeg\n",
    "import mne"
   ]
  },
  {
   "cell_type": "code",
   "execution_count": null,
   "id": "abe975d9-2483-4ed3-9be8-69bfdc797a49",
   "metadata": {
    "tags": []
   },
   "outputs": [],
   "source": [
    "eeg = simulate_eeg()"
   ]
  },
  {
   "cell_type": "code",
   "execution_count": null,
   "id": "bd0ad75e-851d-47f3-a754-7d8b89c5a33a",
   "metadata": {
    "tags": []
   },
   "outputs": [],
   "source": [
    "mne.viz.set_browser_backend('matplotlib')\n",
    "eeg.plot();"
   ]
  },
  {
   "cell_type": "code",
   "execution_count": null,
   "id": "182be299-7918-43f8-8922-319866f89b45",
   "metadata": {},
   "outputs": [],
   "source": []
  }
 ],
 "metadata": {
  "kernelspec": {
   "display_name": "Python 3 (ipykernel)",
   "language": "python",
   "name": "python3"
  },
  "language_info": {
   "codemirror_mode": {
    "name": "ipython",
    "version": 3
   },
   "file_extension": ".py",
   "mimetype": "text/x-python",
   "name": "python",
   "nbconvert_exporter": "python",
   "pygments_lexer": "ipython3",
   "version": "3.11.0"
  }
 },
 "nbformat": 4,
 "nbformat_minor": 5
}
