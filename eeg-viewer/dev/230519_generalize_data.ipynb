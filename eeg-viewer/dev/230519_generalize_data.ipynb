{
 "cells": [
  {
   "cell_type": "markdown",
   "id": "4b8f03df-03aa-469a-a785-dae10c82d094",
   "metadata": {},
   "source": [
    "Up until now, I was either using MNE to simulate data (not entirely successfully) or generating some noisy sine waves as data and sticking them into an MNE raw data object to be fed into plotting. \n",
    "\n",
    "As this is an element workflow that is supposed to be generalizable, I want to move the MNE-specific aspects to a community workflow (mne-eeg-viewer).\n",
    "\n",
    "This should utilize numpy, pandas, or xarray as the user-facing, in-memory object.\n",
    "\n",
    "I don't care right now what the on-disk format would be, if anything at all."
   ]
  },
  {
   "cell_type": "code",
   "execution_count": null,
   "id": "6733726c-fb91-47c1-98d1-69609693e429",
   "metadata": {},
   "outputs": [],
   "source": []
  },
  {
   "cell_type": "code",
   "execution_count": null,
   "id": "175fe53e-f1be-491c-9380-77420a552e57",
   "metadata": {},
   "outputs": [],
   "source": []
  },
  {
   "cell_type": "code",
   "execution_count": null,
   "id": "0fa3b530-6d2b-405c-95da-3c960a56cdf5",
   "metadata": {},
   "outputs": [],
   "source": []
  }
 ],
 "metadata": {
  "kernelspec": {
   "display_name": "Python 3 (ipykernel)",
   "language": "python",
   "name": "python3"
  },
  "language_info": {
   "codemirror_mode": {
    "name": "ipython",
    "version": 3
   },
   "file_extension": ".py",
   "mimetype": "text/x-python",
   "name": "python",
   "nbconvert_exporter": "python",
   "pygments_lexer": "ipython3",
   "version": "3.9.16"
  }
 },
 "nbformat": 4,
 "nbformat_minor": 5
}
