{
 "cells": [
  {
   "cell_type": "markdown",
   "id": "b7acba1e-a719-4ff2-a8b8-6a19fe6edc7c",
   "metadata": {},
   "source": [
    "learning from [previous nb](2023-03-10_simdata_MNE_notes.ipynb)"
   ]
  },
  {
   "cell_type": "markdown",
   "id": "732b7023-3228-42bf-894b-1fadab78f625",
   "metadata": {
    "tags": []
   },
   "source": [
    "Requirements:\n",
    "- Easily adjust duration, num channels\n",
    "- sampling rate should either be adjustable or on the higher end of what's typically used\n",
    "- ideally there should be groups (EEG, MEG, misc bio sensors)"
   ]
  },
  {
   "cell_type": "code",
   "execution_count": 5,
   "id": "7e6cfd37-6eb5-4057-8c4a-c5e7db2f6606",
   "metadata": {
    "tags": []
   },
   "outputs": [],
   "source": [
    "import numpy as np\n",
    "import mne"
   ]
  },
  {
   "cell_type": "code",
   "execution_count": 6,
   "id": "1ef18518-abc7-464a-a5da-779aafe4b7fc",
   "metadata": {
    "tags": []
   },
   "outputs": [
    {
     "name": "stdout",
     "output_type": "stream",
     "text": [
      "Creating RawArray with float64 data, n_channels=200, n_times=10000\n",
      "    Range : 0 ... 9999 =      0.000 ...     9.999 secs\n",
      "Ready.\n"
     ]
    }
   ],
   "source": [
    "duration = 10\n",
    "nchs = 200\n",
    "sampling_freq = 1000  # in Hertz\n",
    "\n",
    "times = np.linspace(0, duration, sampling_freq*duration, endpoint=False)\n",
    "sine = np.sin(20 * np.pi * times)\n",
    "data = np.tile(sine, (nchs, 1))\n",
    "\n",
    "info = mne.create_info(nchs,\n",
    "                       ch_types=['misc'] * nchs,\n",
    "                       sfreq=sampling_freq)\n",
    "\n",
    "simulated_raw = mne.io.RawArray(data, info)\n",
    "# simulated_raw.plot(show_scrollbars=False, show_scalebars=False)"
   ]
  },
  {
   "cell_type": "code",
   "execution_count": null,
   "id": "898c698a-64a3-49e9-b86b-04fe28169481",
   "metadata": {},
   "outputs": [],
   "source": []
  }
 ],
 "metadata": {
  "kernelspec": {
   "display_name": "Python 3 (ipykernel)",
   "language": "python",
   "name": "python3"
  },
  "language_info": {
   "codemirror_mode": {
    "name": "ipython",
    "version": 3
   },
   "file_extension": ".py",
   "mimetype": "text/x-python",
   "name": "python",
   "nbconvert_exporter": "python",
   "pygments_lexer": "ipython3",
   "version": "3.11.0"
  }
 },
 "nbformat": 4,
 "nbformat_minor": 5
}
