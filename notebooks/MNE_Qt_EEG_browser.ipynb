{
 "cells": [
  {
   "cell_type": "markdown",
   "id": "362c4e1a-1f80-4f8f-a5f8-fb0e804a89ed",
   "metadata": {},
   "source": [
    "# This notebook demonstrates how to launch the MNE Qt-based EEG viewer with sample data"
   ]
  },
  {
   "cell_type": "markdown",
   "id": "429d8d00-7cdb-4909-85cf-9a44f0e7df0b",
   "metadata": {},
   "source": [
    "1. Create env for the rest of this nb:\n",
    "- `conda create --strict-channel-priority --channel=conda-forge --name=mne mne-base h5io h5py pymatreader jupyterlab pandas mne-qt-browser`"
   ]
  },
  {
   "cell_type": "code",
   "execution_count": null,
   "id": "e848b88f-271f-4608-a1d3-9a76046e57b7",
   "metadata": {
    "tags": []
   },
   "outputs": [],
   "source": [
    "import mne"
   ]
  },
  {
   "cell_type": "markdown",
   "id": "9e52d159-d5a5-4c03-a2d2-6d00b8bbb011",
   "metadata": {},
   "source": [
    "2. Download data"
   ]
  },
  {
   "cell_type": "code",
   "execution_count": null,
   "id": "ac5dac4a-c73f-4307-b083-11cea9b7f147",
   "metadata": {
    "tags": []
   },
   "outputs": [],
   "source": [
    "sample_data_folder = mne.datasets.sample.data_path() # will save data to ~/mne-data unless `path` arg is specified\n",
    "sample_data_folder"
   ]
  },
  {
   "cell_type": "markdown",
   "id": "2eff652b-915d-4b9f-85d0-76f72adf0486",
   "metadata": {},
   "source": [
    "3. Read data"
   ]
  },
  {
   "cell_type": "code",
   "execution_count": null,
   "id": "d2c0b381-c224-483d-8c02-48b9f722b1f4",
   "metadata": {
    "tags": []
   },
   "outputs": [],
   "source": [
    "# unfiltered/full-resolution version is (sample_audvis_raw.fif) ~ 128 MB\n",
    "sample_data_raw_file = (sample_data_folder / 'MEG' / 'sample' /\n",
    "                        'sample_audvis_raw.fif')\n",
    "sample_data_raw_file"
   ]
  },
  {
   "cell_type": "code",
   "execution_count": null,
   "id": "b00c6d20-9239-4102-9935-ac7a8726beb9",
   "metadata": {
    "tags": []
   },
   "outputs": [],
   "source": [
    "raw = mne.io.read_raw_fif(sample_data_raw_file)"
   ]
  },
  {
   "cell_type": "code",
   "execution_count": null,
   "id": "3c91f539-941f-4b96-824e-0b2ac76058dc",
   "metadata": {
    "tags": []
   },
   "outputs": [],
   "source": [
    "raw.info"
   ]
  },
  {
   "cell_type": "markdown",
   "id": "e5b49a25-7964-416f-85b6-7e0b27639d9f",
   "metadata": {},
   "source": [
    "4. Launch Qt EEG viewer"
   ]
  },
  {
   "cell_type": "code",
   "execution_count": null,
   "id": "d3e794f9-47cf-4872-a267-a47296519da4",
   "metadata": {
    "tags": []
   },
   "outputs": [],
   "source": [
    "raw.plot(duration=60, n_channels=80) # launches GUI"
   ]
  },
  {
   "cell_type": "code",
   "execution_count": null,
   "id": "5b579f63-8a51-4b60-ad6b-697719ad990e",
   "metadata": {},
   "outputs": [],
   "source": []
  }
 ],
 "metadata": {
  "kernelspec": {
   "display_name": "Python 3 (ipykernel)",
   "language": "python",
   "name": "python3"
  },
  "language_info": {
   "codemirror_mode": {
    "name": "ipython",
    "version": 3
   },
   "file_extension": ".py",
   "mimetype": "text/x-python",
   "name": "python",
   "nbconvert_exporter": "python",
   "pygments_lexer": "ipython3",
   "version": "3.11.0"
  }
 },
 "nbformat": 4,
 "nbformat_minor": 5
}
