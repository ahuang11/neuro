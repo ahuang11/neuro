{
 "cells": [
  {
   "cell_type": "markdown",
   "id": "6048d9b7-208f-4994-abe0-3028428606cb",
   "metadata": {},
   "source": [
    "This workflow is still very early in development, see dev/230526_sim_imaging.ipynb for an example of data simulation and using minian for viewing. However, use of minian currently requires not using osx-arm64... so if on osx, the osx-64 package is required."
   ]
  }
 ],
 "metadata": {
  "kernelspec": {
   "display_name": "Python 3 (ipykernel)",
   "language": "python",
   "name": "python3"
  },
  "language_info": {
   "codemirror_mode": {
    "name": "ipython",
    "version": 3
   },
   "file_extension": ".py",
   "mimetype": "text/x-python",
   "name": "python",
   "nbconvert_exporter": "python",
   "pygments_lexer": "ipython3",
   "version": "3.8.15"
  }
 },
 "nbformat": 4,
 "nbformat_minor": 5
}
