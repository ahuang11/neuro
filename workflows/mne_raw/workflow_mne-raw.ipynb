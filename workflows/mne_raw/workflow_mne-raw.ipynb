{
 "cells": [
  {
   "cell_type": "code",
   "execution_count": null,
   "metadata": {},
   "outputs": [],
   "source": []
  },
  {
   "attachments": {},
   "cell_type": "markdown",
   "metadata": {
    "tags": []
   },
   "source": [
    "<div class=\"alert alert-warning\">\n",
    "WARNING: This workflow is still in early stages. The priority is the more general `eeg-viewer` workflow. When further along, the `eeg-viewer` workflow will form the basis of this `mne-raw` workflow.\n",
    "</div>"
   ]
  },
  {
   "cell_type": "code",
   "execution_count": null,
   "metadata": {},
   "outputs": [],
   "source": [
    "import numpy as np\n",
    "import pandas as pd\n",
    "import holoviews as hv\n",
    "hv.extension('bokeh')\n",
    "from neurodatagen.eeg import simulate_eeg"
   ]
  },
  {
   "attachments": {},
   "cell_type": "markdown",
   "metadata": {},
   "source": [
    "## Generate data"
   ]
  },
  {
   "cell_type": "code",
   "execution_count": null,
   "metadata": {},
   "outputs": [],
   "source": [
    "raw = simulate_eeg(duration=5, n_channels=20, sfreq=1000)"
   ]
  },
  {
   "cell_type": "code",
   "execution_count": null,
   "metadata": {},
   "outputs": [],
   "source": [
    "raw.info"
   ]
  },
  {
   "attachments": {},
   "cell_type": "markdown",
   "metadata": {},
   "source": [
    "## Visualize EEG"
   ]
  },
  {
   "cell_type": "code",
   "execution_count": null,
   "metadata": {},
   "outputs": [],
   "source": [
    "def view_eeg(raw, spacing=2):\n",
    "    \"\"\"\n",
    "    Plot stacked EEG traced\n",
    "\n",
    "    Parameters:\n",
    "        raw (mne.io.RawArray): The EEG data as a `mne.io.RawArray` object.\n",
    "        spacing (float): multipler to vertically space traces\n",
    "\n",
    "    Returns:\n",
    "        holoviews.core.overlay.NdOverlay: The EEG plot.\n",
    "\n",
    "    \"\"\"\n",
    "    data = raw.get_data()\n",
    "    ch_names = raw.ch_names\n",
    "\n",
    "    # Calculate the offset between channels to avoid visual overlap\n",
    "    offset = np.max(np.abs(data)) * spacing\n",
    "\n",
    "    # Create a hv.Curve element per chan\n",
    "    channel_curves = {}\n",
    "    for i, channel_data in enumerate(data):\n",
    "        channel_curves[ch_names[i]] = hv.Curve((raw.times, channel_data + (i * offset)), 'Time').opts(color='black', tools=['hover'])\n",
    "\n",
    "    # Create mapping from yaxis location to ytick for each channel\n",
    "    yticks = [(i * offset, channel_name) for i, channel_name in enumerate(ch_names)]\n",
    "\n",
    "    # Create hv overlay of curves\n",
    "    eeg_viewer = hv.NdOverlay(channel_curves, kdims='Channel').opts(\n",
    "        width=600, height=600, padding=.01, xlabel='Time', ylabel='Channel', yticks=yticks, show_legend=False)\n",
    "\n",
    "    return eeg_viewer"
   ]
  },
  {
   "cell_type": "code",
   "execution_count": null,
   "metadata": {},
   "outputs": [],
   "source": [
    "view_eeg(raw)"
   ]
  },
  {
   "cell_type": "code",
   "execution_count": null,
   "metadata": {},
   "outputs": [],
   "source": []
  }
 ],
 "metadata": {
  "kernelspec": {
   "display_name": "Python 3 (ipykernel)",
   "language": "python",
   "name": "python3"
  },
  "language_info": {
   "codemirror_mode": {
    "name": "ipython",
    "version": 3
   },
   "file_extension": ".py",
   "mimetype": "text/x-python",
   "name": "python",
   "nbconvert_exporter": "python",
   "pygments_lexer": "ipython3",
   "version": "3.11.6"
  }
 },
 "nbformat": 4,
 "nbformat_minor": 4
}
