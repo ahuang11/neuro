{
 "cells": [
  {
   "cell_type": "markdown",
   "id": "4b8f03df-03aa-469a-a785-dae10c82d094",
   "metadata": {},
   "source": [
    "## Background\n",
    "Most of the simulation/plotting work so far has used `mne` in some way, but as this is supposed to be a generalizable `element workflow`, I want to try to strip out MNE as much as possible (I can put those mne bits into a contextualized `community workflow` - mne-eeg-viewer).\n",
    "\n",
    "## Tasks: \n",
    "1. generate data\n",
    "    - create an eeg data generator that returns eeg data as a numpy array (channels, times)\n",
    "        - Right now, it's not essential for us to simulate EEG data that appears convincingly real. Instead, our priority should be to generate EEG-like time-series that embody the specifications that could influence the development and visualization process. For this reason, variable frequency sine waves with some level of noise might suffice, as long as they are produced at with relevant aspects like sampling rate, dtype, and signal scale.\n",
    "        - :point_right: update - [neurodsp](https://github.com/neurodsp-tools/neurodsp) seems to have a simple powerlaw eeg data simulator.. I may try it\n",
    "    - also generate a times array, channel names,\n",
    "    - maybe: generate events - condition, epoch arrays\n",
    "    - maybe maybe: generate - locations\n",
    "    - next: other data types (meg, eog)\n",
    "    - don't create anything on-disk (yet)... the most generalizable starting point is an in-memory numpy array and some info objects.\n"
   ]
  },
  {
   "cell_type": "markdown",
   "id": "fac5638a-17ad-422e-b81b-91efc2c2abac",
   "metadata": {},
   "source": [
    "## Generate pink noise EEG data"
   ]
  },
  {
   "cell_type": "markdown",
   "id": "185c3697-e605-4486-9e55-9ac52713d799",
   "metadata": {},
   "source": [
    "The term \"pink noise\" is commonly used to refer to the power spectral density (PSD) characteristics of the noise signal, where the PSD follows a power-law distribution with a slope of approximately -1. This term is widely recognized and associated with noise signals that exhibit an equal amount of energy per octave or per frequency interval. This property of pink noise captures the statistical characteristics and fractal-like properties observed in the background activity of the brain."
   ]
  },
  {
   "cell_type": "code",
   "execution_count": null,
   "id": "875dd631-6579-45c7-ba36-abe9e17d2c52",
   "metadata": {},
   "outputs": [],
   "source": [
    "import numpy as np\n",
    "from scipy import signal\n",
    "\n",
    "def generate_eeg_pinknoise(channels: int, duration: float, sampling_rate: int,\n",
    "                           highpass: float = 1.0) -> tuple[np.ndarray, np.ndarray]:\n",
    "    \"\"\"\n",
    "    Generate synthetic EEG data with pink noise characteristics.\n",
    "\n",
    "    Args:\n",
    "        channels (int): Number of EEG channels.\n",
    "        duration (float): Duration of the EEG data in seconds.\n",
    "        sampling_rate (int): Sampling rate of the EEG data in Hz.\n",
    "        highpass (float, optional): High-pass filter factor in Hz. Frequencies lower than\n",
    "            this value will be attenuated. Defaults to 1.0. Should be greater than 0.\n",
    "\n",
    "    Returns:\n",
    "        tuple[np.ndarray, np.ndarray]: Synthetic EEG data as a NumPy array of shape (channels, total_samples),\n",
    "                                       and time array as a NumPy array of shape (total_samples,).\n",
    "\n",
    "    \"\"\"\n",
    "    total_samples = int(duration * sampling_rate)\n",
    "    time = np.arange(total_samples) / sampling_rate\n",
    "\n",
    "    # Generate white noise\n",
    "    white_noise = np.random.normal(0, 1, (channels, total_samples))\n",
    "\n",
    "    # Apply 1/f filter to shape the noise spectrum\n",
    "    b, a = signal.butter(1, highpass / (sampling_rate / 2), btype='highpass')\n",
    "    pink_noise = signal.filtfilt(b, a, white_noise, axis=1)\n",
    "\n",
    "    # Scale the pink noise by the desired amplitude\n",
    "    amplitude = 100 # EEG signals are typically plus or minus 100 microvolts\n",
    "    scaled_noise = pink_noise * amplitude\n",
    "\n",
    "    # Check dimensions of the generated data\n",
    "    assert pink_noise.shape == (channels, total_samples), \"Incorrect dimensions for pink_noise array\"\n",
    "\n",
    "    return pink_noise, time\n"
   ]
  },
  {
   "cell_type": "code",
   "execution_count": null,
   "id": "ffa11c50-8a91-4015-8aeb-b7bb74fb26fd",
   "metadata": {},
   "outputs": [],
   "source": [
    "channels = 50\n",
    "duration = 10  # seconds\n",
    "sampling_rate = 500  # Hz\n",
    "highpass = 1  # Hz (default)\n",
    "\n",
    "data, time = generate_eeg_pinknoise(channels, duration, sampling_rate, highpass)"
   ]
  },
  {
   "cell_type": "code",
   "execution_count": null,
   "id": "0f3fe869-8156-4f89-8d37-2dd91ca55ebe",
   "metadata": {},
   "outputs": [],
   "source": [
    "data.shape"
   ]
  },
  {
   "cell_type": "markdown",
   "id": "b31bfc36-3d34-41e6-a9b7-16c5766209f0",
   "metadata": {},
   "source": [
    "## Visualize EEG"
   ]
  },
  {
   "cell_type": "code",
   "execution_count": null,
   "id": "c8145ee4-7822-48e9-b494-e00f3d789144",
   "metadata": {},
   "outputs": [],
   "source": [
    "import holoviews as hv\n",
    "hv.extension('bokeh')\n",
    "\n",
    "def view_eeg(data, time, ch_names=None, spacing=2):\n",
    "\n",
    "    n_channels = data.shape[0]\n",
    "    \n",
    "    if ch_names is None:\n",
    "        # Create a channel names list\n",
    "        ch_names = [f'EEG {i+1}' for i in range(n_channels)]\n",
    "\n",
    "    # Calculate the offset between channels to avoid visual overlap\n",
    "    offset = np.max(np.abs(data)) * spacing\n",
    "\n",
    "    # Create a hv.Curve element per chan\n",
    "    channel_curves = {}\n",
    "    for i, channel_data in enumerate(data):\n",
    "        channel_curves[ch_names[i]] = hv.Curve((time, channel_data + (i * offset)), 'Time').opts(color='black', line_width=1, tools=['hover'])\n",
    "\n",
    "    # Create mapping from yaxis location to ytick for each channel\n",
    "    yticks = [(i * offset, channel_name) for i, channel_name in enumerate(ch_names)]\n",
    "\n",
    "    # Create hv overlay of curves\n",
    "    eeg_viewer = hv.NdOverlay(channel_curves, kdims='Channel').opts(\n",
    "        width=600, height=600, padding=.01, xlabel='Time', ylabel='Channel', yticks=yticks, show_legend=False)\n",
    "\n",
    "    return eeg_viewer"
   ]
  },
  {
   "cell_type": "code",
   "execution_count": null,
   "id": "b723fa13-88c3-437b-9b8b-756815f91e22",
   "metadata": {},
   "outputs": [],
   "source": [
    "view_eeg(data, time)"
   ]
  },
  {
   "cell_type": "markdown",
   "id": "8f5586e2-bad6-4065-9aae-e272a6b57d30",
   "metadata": {},
   "source": [
    "## that still does not look great.. try brown noise:"
   ]
  },
  {
   "cell_type": "code",
   "execution_count": null,
   "id": "a2e3b350-e9de-44cd-b860-0c48e99dc214",
   "metadata": {},
   "outputs": [],
   "source": [
    "import numpy as np\n",
    "from scipy import signal\n",
    "\n",
    "def generate_eeg_brownnoise(channels: int, duration: float, sampling_rate: int,\n",
    "                            highpass: float = 2.0, amplitude: float = 100.0) -> tuple[np.ndarray, np.ndarray]:\n",
    "    \"\"\"\n",
    "    Generate synthetic EEG data with brown noise characteristics.\n",
    "\n",
    "    Args:\n",
    "        channels (int): Number of EEG channels.\n",
    "        duration (float): Duration of the EEG data in seconds.\n",
    "        sampling_rate (int): Sampling rate of the EEG data in Hz.\n",
    "        highpass (float, optional): High-pass filter factor in Hz. Frequencies lower than\n",
    "            this value will be attenuated. Should be greater than 0. Defaults to 2.0.\n",
    "        amplitude (float, optional): Amplitude scaling factor for the generated EEG data.\n",
    "            Defaults to 100.0 microvolts.\n",
    "\n",
    "    Returns:\n",
    "        tuple[np.ndarray, np.ndarray]: Synthetic EEG data as a NumPy array of shape (channels, total_samples),\n",
    "                                       and time array as a NumPy array of shape (total_samples,).\n",
    "\n",
    "    \"\"\"\n",
    "    desired_samples = int(duration * sampling_rate)\n",
    "    total_samples = int(desired_samples * 1.2)  # Generate a longer time series\n",
    "\n",
    "    time = np.arange(total_samples) / sampling_rate\n",
    "\n",
    "    # Generate white noise\n",
    "    white_noise = np.random.normal(0, 1, (channels, total_samples))\n",
    "\n",
    "    # Apply 1/f^2 filter to shape the noise spectrum\n",
    "    b, a = signal.butter(2, highpass / (sampling_rate / 2), btype='highpass')\n",
    "    brown_noise = signal.filtfilt(b, a, white_noise, axis=1)\n",
    "\n",
    "    # Integrate the brown noise to achieve the brown noise characteristics\n",
    "    integrated_noise = np.cumsum(brown_noise, axis=1)\n",
    "\n",
    "    # Extract the desired duration from the center of the time series\n",
    "    start_idx = int((total_samples - desired_samples) / 2)\n",
    "    end_idx = start_idx + desired_samples\n",
    "    extracted_noise = integrated_noise[:, start_idx:end_idx]\n",
    "\n",
    "    # Scale the extracted noise by the desired amplitude\n",
    "    scaled_noise = extracted_noise * amplitude\n",
    "\n",
    "    # Adjust the time vector to match the dimensions of the scaled noise\n",
    "    time = time[start_idx:end_idx]\n",
    "\n",
    "    # Check dimensions of the generated data\n",
    "    assert scaled_noise.shape == (channels, desired_samples), \"Incorrect dimensions for scaled_noise array\"\n",
    "    assert time.shape == (desired_samples,), \"Incorrect dimensions for time array\"\n",
    "\n",
    "    return scaled_noise, time\n"
   ]
  },
  {
   "cell_type": "code",
   "execution_count": null,
   "id": "fce61043-1721-45c8-913b-b8d9615ca7e6",
   "metadata": {},
   "outputs": [],
   "source": [
    "channels = 50\n",
    "duration = 10  # seconds\n",
    "sampling_rate = 500  # Hz\n",
    "highpass = 2  # Hz (default)\n",
    "\n",
    "data, time = generate_eeg_brownnoise(channels, duration, sampling_rate, highpass)"
   ]
  },
  {
   "cell_type": "code",
   "execution_count": null,
   "id": "07f658a2-b671-45ea-860c-4e3d35c0beea",
   "metadata": {},
   "outputs": [],
   "source": [
    "view_eeg(data, time)"
   ]
  },
  {
   "cell_type": "markdown",
   "id": "7a8c6745-ddd2-4f6a-8c5b-ac18277c9fe8",
   "metadata": {},
   "source": [
    "## that still looks pretty bad. try neurodsp instead"
   ]
  },
  {
   "cell_type": "code",
   "execution_count": null,
   "id": "e2d60493-b22a-4550-99a5-e4229930ebae",
   "metadata": {},
   "outputs": [],
   "source": [
    "import numpy as np\n",
    "from neurodsp.sim import sim_powerlaw\n",
    "\n",
    "def generate_eeg_brownnoise(n_channels: int, n_seconds: float, fs: int,\n",
    "                            highpass: float = 2.0, amplitude: float = 50.0) -> tuple[np.ndarray, np.ndarray]:\n",
    "    \"\"\"\n",
    "    Generate synthetic EEG data with brown noise characteristics.\n",
    "\n",
    "    Args:\n",
    "        n_channels (int): Number of EEG channels.\n",
    "        n_seconds (float): Duration of the EEG data in seconds.\n",
    "        fs (int): Sampling rate of the EEG data in Hz.\n",
    "        highpass (float, optional): High-pass filter factor in Hz. Frequencies lower than\n",
    "            this value will be attenuated. Should be greater than 0. Defaults to 2.0.\n",
    "        amplitude (float, optional): Amplitude scaling factor for the generated EEG data.\n",
    "            Defaults to 50.0 microvolts.\n",
    "\n",
    "    Returns:\n",
    "        tuple[np.ndarray, np.ndarray]: Synthetic EEG data as a NumPy array of shape (channels, total_samples),\n",
    "                                       and time array as a NumPy array of shape (total_samples,).\n",
    "\n",
    "    \"\"\"\n",
    "    total_samples = int(n_seconds * sampling_rate)\n",
    "\n",
    "    # Generate high-passed brown noise for each channel\n",
    "    scaled_noise = np.empty((n_channels, total_samples))\n",
    "    for ch in range(channels):\n",
    "        brown_noise = sim_powerlaw(n_seconds, fs, f_range=(highpass, None))\n",
    "        scaled_noise[ch] = brown_noise * amplitude\n",
    "\n",
    "    time = np.arange(total_samples) / sampling_rate\n",
    "\n",
    "    # Check dimensions of the generated data\n",
    "    assert scaled_noise.shape == (channels, total_samples), \"Incorrect dimensions for scaled_noise array\"\n",
    "    assert time.shape == (total_samples,), \"Incorrect dimensions for time array\"\n",
    "\n",
    "    return scaled_noise, time\n"
   ]
  },
  {
   "cell_type": "code",
   "execution_count": null,
   "id": "10f4cdd2-4744-4df6-9122-b4f86199a315",
   "metadata": {},
   "outputs": [],
   "source": [
    "channels = 50\n",
    "duration = 10  # seconds\n",
    "sampling_rate = 500  # Hz\n",
    "\n",
    "data, time = generate_eeg_brownnoise(channels, duration, sampling_rate, highpass)"
   ]
  },
  {
   "cell_type": "code",
   "execution_count": null,
   "id": "cd6ea144-5195-4751-af86-760e346bc70e",
   "metadata": {},
   "outputs": [],
   "source": [
    "data.shape"
   ]
  },
  {
   "cell_type": "code",
   "execution_count": null,
   "id": "9e6d7549-d53f-4368-9485-bc804759dd1a",
   "metadata": {},
   "outputs": [],
   "source": [
    "view_eeg(data, time)"
   ]
  },
  {
   "cell_type": "markdown",
   "id": "d1c7d70a-9580-4699-9e07-b06c0259e753",
   "metadata": {},
   "source": [
    "## That looks good enough!"
   ]
  },
  {
   "cell_type": "code",
   "execution_count": null,
   "id": "a99ee909-b5f4-480e-bb08-1077d5a90932",
   "metadata": {},
   "outputs": [],
   "source": [
    "import pandas as pd\n",
    "import hvplot.pandas\n",
    "df = pd.DataFrame(data.T)\n",
    "df.hvplot.hist()"
   ]
  },
  {
   "cell_type": "code",
   "execution_count": null,
   "id": "eb6a375f-d973-4df9-8fb8-ede94364f9c5",
   "metadata": {},
   "outputs": [],
   "source": [
    "import scipy.signal as signal\n",
    "\n",
    "frequencies, psd = signal.periodogram(data.flatten(), fs=sampling_rate)"
   ]
  },
  {
   "cell_type": "code",
   "execution_count": null,
   "id": "39966fcd-91ed-4040-908e-a43418b74c8e",
   "metadata": {},
   "outputs": [],
   "source": [
    "df_psd = pd.DataFrame({'Frequency': frequencies, 'PSD': psd})\n",
    "df_psd.hvplot.line(x='Frequency', y='PSD', logx=True, logy=True, xlim=[.1,100], ylim=[.001, 10000])"
   ]
  },
  {
   "cell_type": "code",
   "execution_count": null,
   "id": "313f6a01-d6c1-40ea-8a3b-76f06e2169a4",
   "metadata": {},
   "outputs": [],
   "source": [
    "from neurodsp.spectral import compute_spectrum\n",
    "from neurodsp.plts.spectral import plot_power_spectra\n",
    "\n",
    "freqs, psd = compute_spectrum(data[0,:], sampling_rate)\n",
    "plot_power_spectra(freqs, psd)"
   ]
  },
  {
   "cell_type": "markdown",
   "id": "60da3be0-aee2-45cb-91e8-52d053191db1",
   "metadata": {},
   "source": [
    "## from script"
   ]
  },
  {
   "cell_type": "code",
   "execution_count": null,
   "id": "e1e270aa-3dc2-4e2e-b6bd-26c2fdd6238b",
   "metadata": {},
   "outputs": [],
   "source": [
    "from neurodatagen.eeg import generate_eeg_brown\n",
    "\n",
    "n_channels = 50\n",
    "n_seconds = 10\n",
    "fs = 500\n",
    "\n",
    "data, time = generate_eeg_brown(n_channels, n_seconds, fs)"
   ]
  },
  {
   "cell_type": "code",
   "execution_count": null,
   "id": "64f5dc6d-9089-4e13-9c65-981e3248ea9a",
   "metadata": {},
   "outputs": [],
   "source": [
    "view_eeg(data, time)"
   ]
  },
  {
   "cell_type": "code",
   "execution_count": null,
   "id": "86e51f3f-e205-422f-bacb-cb016e3c7802",
   "metadata": {},
   "outputs": [],
   "source": []
  }
 ],
 "metadata": {
  "kernelspec": {
   "display_name": "Python 3 (ipykernel)",
   "language": "python",
   "name": "python3"
  },
  "language_info": {
   "codemirror_mode": {
    "name": "ipython",
    "version": 3
   },
   "file_extension": ".py",
   "mimetype": "text/x-python",
   "name": "python",
   "nbconvert_exporter": "python",
   "pygments_lexer": "ipython3",
   "version": "3.9.16"
  }
 },
 "nbformat": 4,
 "nbformat_minor": 5
}
