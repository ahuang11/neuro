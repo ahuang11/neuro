{
 "cells": [
  {
   "cell_type": "markdown",
   "id": "362c4e1a-1f80-4f8f-a5f8-fb0e804a89ed",
   "metadata": {},
   "source": [
    "# Launch the MNE Qt-based EEG viewer with sample data"
   ]
  },
  {
   "cell_type": "markdown",
   "id": "429d8d00-7cdb-4909-85cf-9a44f0e7df0b",
   "metadata": {},
   "source": [
    "1. Install the follwing from conda-forge:\n",
    "- `mne-base h5io h5py pymatreader jupyterlab pandas mne-qt-browser`"
   ]
  },
  {
   "cell_type": "markdown",
   "id": "06948918-558a-4b58-bb12-c4c49f1eec3e",
   "metadata": {},
   "source": [
    "2. Download data\n",
    "- for example: `https://physionet.org/files/eegmmidb/1.0.0/S001/S001R04.edf?download`"
   ]
  },
  {
   "cell_type": "markdown",
   "id": "2eff652b-915d-4b9f-85d0-76f72adf0486",
   "metadata": {},
   "source": [
    "3. Read data"
   ]
  },
  {
   "cell_type": "code",
   "execution_count": 1,
   "id": "16fadf8f-ad0f-4f6a-bb7b-9624e0b288fe",
   "metadata": {},
   "outputs": [
    {
     "data": {
      "text/plain": [
       "'/Users/droumis/data/mne_data/S001R04.edf'"
      ]
     },
     "execution_count": 1,
     "metadata": {},
     "output_type": "execute_result"
    }
   ],
   "source": [
    "sample_data_raw_file = ('/Users/droumis/data/mne_data/S001R04.edf') # your path to data\n",
    "sample_data_raw_file"
   ]
  },
  {
   "cell_type": "code",
   "execution_count": 2,
   "id": "e848b88f-271f-4608-a1d3-9a76046e57b7",
   "metadata": {
    "tags": []
   },
   "outputs": [],
   "source": [
    "%gui qt5\n",
    "import mne"
   ]
  },
  {
   "cell_type": "code",
   "execution_count": 3,
   "id": "7ba5e861-c715-4c33-ac78-751354032b76",
   "metadata": {},
   "outputs": [
    {
     "name": "stdout",
     "output_type": "stream",
     "text": [
      "Extracting EDF parameters from /Users/droumis/data/mne_data/S001R04.edf...\n",
      "EDF file detected\n",
      "Setting channel info structure...\n",
      "Creating raw.info structure...\n"
     ]
    }
   ],
   "source": [
    "raw = mne.io.read_raw_edf(sample_data_raw_file)"
   ]
  },
  {
   "cell_type": "code",
   "execution_count": 4,
   "id": "3c91f539-941f-4b96-824e-0b2ac76058dc",
   "metadata": {
    "tags": []
   },
   "outputs": [
    {
     "data": {
      "text/html": [
       "<table class=\"table table-hover table-striped table-sm table-responsive small\">\n",
       "    <tr>\n",
       "        <th>Measurement date</th>\n",
       "        \n",
       "        <td>August 12, 2009  16:15:00 GMT</td>\n",
       "        \n",
       "    </tr>\n",
       "    <tr>\n",
       "        <th>Experimenter</th>\n",
       "        \n",
       "        <td>Unknown</td>\n",
       "        \n",
       "    </tr>\n",
       "        <th>Participant</th>\n",
       "        \n",
       "        <td>Unknown</td>\n",
       "        \n",
       "    </tr>\n",
       "    <tr>\n",
       "        <th>Digitized points</th>\n",
       "        \n",
       "        <td>Not available</td>\n",
       "        \n",
       "    </tr>\n",
       "    <tr>\n",
       "        <th>Good channels</th>\n",
       "        <td>64 EEG</td>\n",
       "    </tr>\n",
       "    <tr>\n",
       "        <th>Bad channels</th>\n",
       "        <td>None</td>\n",
       "    </tr>\n",
       "    <tr>\n",
       "        <th>EOG channels</th>\n",
       "        <td>Not available</td>\n",
       "    </tr>\n",
       "    <tr>\n",
       "        <th>ECG channels</th>\n",
       "        <td>Not available</td>\n",
       "    \n",
       "    <tr>\n",
       "        <th>Sampling frequency</th>\n",
       "        <td>160.00 Hz</td>\n",
       "    </tr>\n",
       "    \n",
       "    \n",
       "    <tr>\n",
       "        <th>Highpass</th>\n",
       "        <td>0.00 Hz</td>\n",
       "    </tr>\n",
       "    \n",
       "    \n",
       "    <tr>\n",
       "        <th>Lowpass</th>\n",
       "        <td>80.00 Hz</td>\n",
       "    </tr>\n",
       "    \n",
       "    \n",
       "</table>"
      ],
      "text/plain": [
       "<Info | 7 non-empty values\n",
       " bads: []\n",
       " ch_names: Fc5., Fc3., Fc1., Fcz., Fc2., Fc4., Fc6., C5.., C3.., C1.., ...\n",
       " chs: 64 EEG\n",
       " custom_ref_applied: False\n",
       " highpass: 0.0 Hz\n",
       " lowpass: 80.0 Hz\n",
       " meas_date: 2009-08-12 16:15:00 UTC\n",
       " nchan: 64\n",
       " projs: []\n",
       " sfreq: 160.0 Hz\n",
       ">"
      ]
     },
     "execution_count": 4,
     "metadata": {},
     "output_type": "execute_result"
    }
   ],
   "source": [
    "raw.info"
   ]
  },
  {
   "cell_type": "markdown",
   "id": "e5b49a25-7964-416f-85b6-7e0b27639d9f",
   "metadata": {},
   "source": [
    "4. Launch Qt EEG viewer"
   ]
  },
  {
   "cell_type": "code",
   "execution_count": 5,
   "id": "d3e794f9-47cf-4872-a267-a47296519da4",
   "metadata": {
    "tags": []
   },
   "outputs": [
    {
     "name": "stdout",
     "output_type": "stream",
     "text": [
      "Using qt as 2D backend.\n",
      "Using pyopengl with version 3.1.6\n"
     ]
    },
    {
     "data": {
      "text/plain": [
       "<mne_qt_browser._pg_figure.MNEQtBrowser at 0x1476bda60>"
      ]
     },
     "execution_count": 5,
     "metadata": {},
     "output_type": "execute_result"
    }
   ],
   "source": [
    "raw.plot(duration=10, n_channels=40, clipping=None)"
   ]
  },
  {
   "cell_type": "code",
   "execution_count": null,
   "id": "5b579f63-8a51-4b60-ad6b-697719ad990e",
   "metadata": {},
   "outputs": [],
   "source": []
  },
  {
   "cell_type": "code",
   "execution_count": null,
   "id": "10a2b17f-4e62-4be6-86be-745f8ca35cd0",
   "metadata": {},
   "outputs": [],
   "source": []
  }
 ],
 "metadata": {
  "kernelspec": {
   "display_name": "Python 3 (ipykernel)",
   "language": "python",
   "name": "python3"
  },
  "language_info": {
   "codemirror_mode": {
    "name": "ipython",
    "version": 3
   },
   "file_extension": ".py",
   "mimetype": "text/x-python",
   "name": "python",
   "nbconvert_exporter": "python",
   "pygments_lexer": "ipython3",
   "version": "3.9.16"
  }
 },
 "nbformat": 4,
 "nbformat_minor": 5
}
