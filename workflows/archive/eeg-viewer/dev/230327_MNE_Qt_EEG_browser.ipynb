{
 "cells": [
  {
   "cell_type": "markdown",
   "id": "362c4e1a-1f80-4f8f-a5f8-fb0e804a89ed",
   "metadata": {},
   "source": [
    "# This notebook demonstrates how to launch the MNE Qt-based EEG viewer with sample data"
   ]
  },
  {
   "cell_type": "markdown",
   "id": "429d8d00-7cdb-4909-85cf-9a44f0e7df0b",
   "metadata": {},
   "source": [
    "1. Create env for the rest of this nb:\n",
    "- `conda create --strict-channel-priority --channel=conda-forge --name=mne mne-base h5io h5py pymatreader jupyterlab pandas mne-qt-browser`"
   ]
  },
  {
   "cell_type": "code",
   "execution_count": 1,
   "id": "e848b88f-271f-4608-a1d3-9a76046e57b7",
   "metadata": {
    "tags": []
   },
   "outputs": [],
   "source": [
    "%gui qt5\n",
    "import mne"
   ]
  },
  {
   "cell_type": "markdown",
   "id": "9e52d159-d5a5-4c03-a2d2-6d00b8bbb011",
   "metadata": {},
   "source": [
    "2. Download data"
   ]
  },
  {
   "cell_type": "code",
   "execution_count": 2,
   "id": "f64dc29b-9963-4acb-8927-e112de1a0af7",
   "metadata": {},
   "outputs": [],
   "source": [
    "mne.set_config('MNE_DATASETS_SAMPLE_PATH', '/Users/droumis/data/mne_data/')"
   ]
  },
  {
   "cell_type": "code",
   "execution_count": 3,
   "id": "ac5dac4a-c73f-4307-b083-11cea9b7f147",
   "metadata": {
    "tags": []
   },
   "outputs": [
    {
     "data": {
      "text/plain": [
       "PosixPath('/Users/droumis/data/mne_data/MNE-sample-data')"
      ]
     },
     "execution_count": 3,
     "metadata": {},
     "output_type": "execute_result"
    }
   ],
   "source": [
    "sample_data_folder = mne.datasets.sample.data_path() # will save data to ~/mne-data unless `path` arg is specified\n",
    "sample_data_folder"
   ]
  },
  {
   "cell_type": "markdown",
   "id": "2eff652b-915d-4b9f-85d0-76f72adf0486",
   "metadata": {},
   "source": [
    "3. Read data"
   ]
  },
  {
   "cell_type": "code",
   "execution_count": 4,
   "id": "d2c0b381-c224-483d-8c02-48b9f722b1f4",
   "metadata": {
    "tags": []
   },
   "outputs": [
    {
     "data": {
      "text/plain": [
       "PosixPath('/Users/droumis/data/mne_data/MNE-sample-data/MEG/sample/sample_audvis_raw.fif')"
      ]
     },
     "execution_count": 4,
     "metadata": {},
     "output_type": "execute_result"
    }
   ],
   "source": [
    "# unfiltered/full-resolution version is (sample_audvis_raw.fif) ~ 128 MB\n",
    "sample_data_raw_file = (sample_data_folder / 'MEG' / 'sample' /\n",
    "                        'sample_audvis_raw.fif')\n",
    "sample_data_raw_file"
   ]
  },
  {
   "cell_type": "code",
   "execution_count": 5,
   "id": "b00c6d20-9239-4102-9935-ac7a8726beb9",
   "metadata": {
    "tags": []
   },
   "outputs": [
    {
     "name": "stdout",
     "output_type": "stream",
     "text": [
      "Opening raw data file /Users/droumis/data/mne_data/MNE-sample-data/MEG/sample/sample_audvis_raw.fif...\n",
      "    Read a total of 3 projection items:\n",
      "        PCA-v1 (1 x 102)  idle\n",
      "        PCA-v2 (1 x 102)  idle\n",
      "        PCA-v3 (1 x 102)  idle\n",
      "    Range : 25800 ... 192599 =     42.956 ...   320.670 secs\n",
      "Ready.\n"
     ]
    }
   ],
   "source": [
    "raw = mne.io.read_raw_fif(sample_data_raw_file)"
   ]
  },
  {
   "cell_type": "code",
   "execution_count": 6,
   "id": "45591aed-6069-45d6-8da7-31aea82d8812",
   "metadata": {},
   "outputs": [],
   "source": [
    "# sample_data_raw_file = ('/Users/droumis/data/mne_data/MNE-testing-data/EDF/test_edf_stim_resamp.edf')\n",
    "# sample_data_raw_file\n",
    "\n",
    "# raw = mne.io.read_raw_edf('/Users/droumis/data/mne_data/S001R04.edf')"
   ]
  },
  {
   "cell_type": "code",
   "execution_count": 7,
   "id": "3c91f539-941f-4b96-824e-0b2ac76058dc",
   "metadata": {
    "tags": []
   },
   "outputs": [
    {
     "data": {
      "text/html": [
       "<table class=\"table table-hover table-striped table-sm table-responsive small\">\n",
       "    <tr>\n",
       "        <th>Measurement date</th>\n",
       "        \n",
       "        <td>December 03, 2002  19:01:10 GMT</td>\n",
       "        \n",
       "    </tr>\n",
       "    <tr>\n",
       "        <th>Experimenter</th>\n",
       "        \n",
       "        <td>MEG</td>\n",
       "        \n",
       "    </tr>\n",
       "        <th>Participant</th>\n",
       "        \n",
       "        <td>Unknown</td>\n",
       "        \n",
       "    </tr>\n",
       "    <tr>\n",
       "        <th>Digitized points</th>\n",
       "        \n",
       "        <td>146 points</td>\n",
       "        \n",
       "    </tr>\n",
       "    <tr>\n",
       "        <th>Good channels</th>\n",
       "        <td>204 Gradiometers, 102 Magnetometers, 9 Stimulus, 60 EEG, 1 EOG</td>\n",
       "    </tr>\n",
       "    <tr>\n",
       "        <th>Bad channels</th>\n",
       "        <td>MEG 2443, EEG 053</td>\n",
       "    </tr>\n",
       "    <tr>\n",
       "        <th>EOG channels</th>\n",
       "        <td>EOG 061</td>\n",
       "    </tr>\n",
       "    <tr>\n",
       "        <th>ECG channels</th>\n",
       "        <td>Not available</td>\n",
       "    \n",
       "    <tr>\n",
       "        <th>Sampling frequency</th>\n",
       "        <td>600.61 Hz</td>\n",
       "    </tr>\n",
       "    \n",
       "    \n",
       "    <tr>\n",
       "        <th>Highpass</th>\n",
       "        <td>0.10 Hz</td>\n",
       "    </tr>\n",
       "    \n",
       "    \n",
       "    <tr>\n",
       "        <th>Lowpass</th>\n",
       "        <td>172.18 Hz</td>\n",
       "    </tr>\n",
       "    \n",
       "    \n",
       "    <tr>\n",
       "        <th>Projections</th>\n",
       "        <td>PCA-v1 : off<br/>PCA-v2 : off<br/>PCA-v3 : off</td>\n",
       "    </tr>\n",
       "    \n",
       "</table>"
      ],
      "text/plain": [
       "<Info | 21 non-empty values\n",
       " acq_pars: ACQch001 110113 ACQch002 110112 ACQch003 110111 ACQch004 110122 ...\n",
       " bads: 2 items (MEG 2443, EEG 053)\n",
       " ch_names: MEG 0113, MEG 0112, MEG 0111, MEG 0122, MEG 0123, MEG 0121, MEG ...\n",
       " chs: 204 Gradiometers, 102 Magnetometers, 9 Stimulus, 60 EEG, 1 EOG\n",
       " custom_ref_applied: False\n",
       " description: acquisition (megacq) VectorView system at NMR-MGH\n",
       " dev_head_t: MEG device -> head transform\n",
       " dig: 146 items (3 Cardinal, 4 HPI, 61 EEG, 78 Extra)\n",
       " events: 1 item (list)\n",
       " experimenter: MEG\n",
       " file_id: 4 items (dict)\n",
       " highpass: 0.1 Hz\n",
       " hpi_meas: 1 item (list)\n",
       " hpi_results: 1 item (list)\n",
       " lowpass: 172.2 Hz\n",
       " meas_date: 2002-12-03 19:01:10 UTC\n",
       " meas_id: 4 items (dict)\n",
       " nchan: 376\n",
       " proj_id: 1 item (ndarray)\n",
       " proj_name: test\n",
       " projs: PCA-v1: off, PCA-v2: off, PCA-v3: off\n",
       " sfreq: 600.6 Hz\n",
       ">"
      ]
     },
     "execution_count": 7,
     "metadata": {},
     "output_type": "execute_result"
    }
   ],
   "source": [
    "raw.info"
   ]
  },
  {
   "cell_type": "markdown",
   "id": "e5b49a25-7964-416f-85b6-7e0b27639d9f",
   "metadata": {},
   "source": [
    "4. Launch Qt EEG viewer"
   ]
  },
  {
   "cell_type": "code",
   "execution_count": 8,
   "id": "d3e794f9-47cf-4872-a267-a47296519da4",
   "metadata": {
    "tags": []
   },
   "outputs": [
    {
     "name": "stdout",
     "output_type": "stream",
     "text": [
      "Using qt as 2D backend.\n",
      "Using pyopengl with version 3.1.6\n"
     ]
    },
    {
     "data": {
      "text/plain": [
       "<mne_qt_browser._pg_figure.MNEQtBrowser at 0x177e14790>"
      ]
     },
     "execution_count": 8,
     "metadata": {},
     "output_type": "execute_result"
    }
   ],
   "source": [
    "raw.plot(duration=10, n_channels=40)#, clipping=None) # launches GUI"
   ]
  },
  {
   "cell_type": "code",
   "execution_count": null,
   "id": "5b579f63-8a51-4b60-ad6b-697719ad990e",
   "metadata": {},
   "outputs": [],
   "source": []
  }
 ],
 "metadata": {
  "kernelspec": {
   "display_name": "Python 3 (ipykernel)",
   "language": "python",
   "name": "python3"
  },
  "language_info": {
   "codemirror_mode": {
    "name": "ipython",
    "version": 3
   },
   "file_extension": ".py",
   "mimetype": "text/x-python",
   "name": "python",
   "nbconvert_exporter": "python",
   "pygments_lexer": "ipython3",
   "version": "3.9.16"
  }
 },
 "nbformat": 4,
 "nbformat_minor": 5
}
