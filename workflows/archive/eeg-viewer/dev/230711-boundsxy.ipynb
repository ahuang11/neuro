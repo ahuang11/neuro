{
 "cells": [
  {
   "cell_type": "markdown",
   "metadata": {},
   "source": [
    "# Test the new boundsx and boundsy args"
   ]
  },
  {
   "cell_type": "code",
   "execution_count": null,
   "metadata": {},
   "outputs": [],
   "source": [
    "import numpy as np\n",
    "import holoviews as hv; hv.extension('bokeh')\n",
    "from holoviews.plotting.links import RangeToolLink\n",
    "from neurodatagen.eeg import generate_eeg_powerlaw\n",
    "from scipy.stats import zscore"
   ]
  },
  {
   "cell_type": "code",
   "execution_count": null,
   "metadata": {},
   "outputs": [],
   "source": [
    "n_channels = 25\n",
    "n_seconds = 30\n",
    "fs = 512\n",
    "\n",
    "data, time, channels = generate_eeg_powerlaw(n_channels, n_seconds, fs)\n",
    "\n",
    "print(f'shape: {data.shape} (n_channels, samples) ')\n",
    "data"
   ]
  },
  {
   "cell_type": "code",
   "execution_count": null,
   "metadata": {},
   "outputs": [],
   "source": [
    "spacing = 1.2\n",
    "offset = np.max(np.abs(data)) * spacing\n",
    "\n",
    "channel_curves = []\n",
    "for i, channel_data in enumerate(data):\n",
    "    channel_curves.append(\n",
    "        hv.Curve((time, channel_data + (i * offset)), \"Time\").opts(\n",
    "            color=\"black\", line_width=1, tools=[\"hover\"]))\n",
    "\n",
    "yticks = [(i * offset, ich) for i, ich in enumerate(channels)]\n",
    "\n",
    "# create a hook to set a predefined selection of RangeToolLink\n",
    "max_ch_disp = 10\n",
    "max_t_disp = 5\n",
    "range_opts = []\n",
    "\n",
    "# def xrange_hook(plot, element):\n",
    "#     plot.handles['x_range'].end = max_t_disp\n",
    "\n",
    "# def yrange_hook(plot, element):\n",
    "#     plot.handles['y_range'].end = np.max(data[max_ch_disp-1,:] + ((max_ch_disp-1) * offset))\n",
    "    \n",
    "# if time.max() > max_t_disp:\n",
    "#     range_opts.append(xrange_hook)\n",
    "\n",
    "# if len(channel_curves) > max_ch_disp:\n",
    "#     range_opts.append(yrange_hook)\n",
    "\n",
    "eeg_viewer = hv.Overlay(channel_curves, kdims=\"Channel\").opts(\n",
    "    width=800, height=600, padding=0, xlabel=\"Time (s)\", ylabel=\"Channel\",\n",
    "    yticks=yticks, show_legend=False,) #hooks=range_opts,\n",
    "\n",
    "y_positions, _ = zip(*yticks)\n",
    "z_data = zscore(data, axis=1)\n",
    "minimap = hv.Image((time, y_positions, z_data), [\"Time (s)\", \"Channel\"], \"Amplitude (uV)\")\n",
    "minimap = minimap.opts(\n",
    "    cmap=\"RdBu_r\", colorbar=False, width=800, height=100, xlabel='', alpha=.5, yticks=[yticks[0], yticks[-1]],)\n",
    "\n",
    "# Create RangeToolLink between the minimap and the main EEG viewer \n",
    "# (quirk: apply to just one eeg trace and it will apply to all. see HoloViews #4472)\n",
    "RangeToolLink(minimap, list(eeg_viewer.values())[0], axes=[\"x\", \"y\"], boundsx=(None, max_t_disp), boundsy=(None, np.max(data[max_ch_disp-1,:] + ((max_ch_disp-1) * offset))))\n",
    "\n",
    "# Display vertically\n",
    "layout = (eeg_viewer + minimap).cols(1)\n",
    "layout.opts(shared_axes=False, merge_tools=False)\n"
   ]
  },
  {
   "cell_type": "markdown",
   "metadata": {},
   "source": [
    "\n",
    "<div class=\"alert alert-info\">\n",
    "    <p class=\"admonition-title\" style=\"font-weight:bold\">Tip:</p>\n",
    "Hover near any border of the minimap, then click and drag to adjust the visible bounds in the EEG plot\n",
    "\n",
    "</div>"
   ]
  },
  {
   "cell_type": "markdown",
   "metadata": {},
   "source": [
    "## Load and plot real data"
   ]
  },
  {
   "cell_type": "code",
   "execution_count": null,
   "metadata": {},
   "outputs": [],
   "source": []
  }
 ],
 "metadata": {
  "kernelspec": {
   "display_name": "Python 3 (ipykernel)",
   "language": "python",
   "name": "python3"
  },
  "language_info": {
   "codemirror_mode": {
    "name": "ipython",
    "version": 3
   },
   "file_extension": ".py",
   "mimetype": "text/x-python",
   "name": "python",
   "nbconvert_exporter": "python",
   "pygments_lexer": "ipython3",
   "version": "3.11.6"
  }
 },
 "nbformat": 4,
 "nbformat_minor": 4
}
