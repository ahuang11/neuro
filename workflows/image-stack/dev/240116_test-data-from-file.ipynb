{
 "cells": [
  {
   "cell_type": "code",
   "execution_count": null,
   "id": "4f1ef311-a578-458a-b055-22c0940761b1",
   "metadata": {},
   "outputs": [],
   "source": [
    "import xarray as xr\n",
    "import panel as pn; pn.extension()\n",
    "import holoviews as hv; hv.extension('bokeh')\n",
    "import hvplot.xarray"
   ]
  },
  {
   "cell_type": "code",
   "execution_count": null,
   "id": "66711060-6ae3-4b5b-abee-27eb50e3af9d",
   "metadata": {},
   "outputs": [],
   "source": [
    "DATA_ARRAY = '1000frames'\n",
    "\n",
    "DATA_PATH = f\"/Users/droumis/data/image-stacks/miniscope/miniscope_sim_{DATA_ARRAY}.zarr/\"\n",
    "\n",
    "ldataset = xr.open_dataset(DATA_PATH, engine='zarr', chunks='auto')\n",
    "\n",
    "data = ldataset[DATA_ARRAY]"
   ]
  },
  {
   "cell_type": "code",
   "execution_count": null,
   "id": "759e2e22-0fd1-4d94-b904-fc95c6ddd29b",
   "metadata": {},
   "outputs": [],
   "source": [
    "# data.hvplot.image(groupby=\"frame\", cmap=\"Viridis\", height=400, width=400, colorbar=False)"
   ]
  },
  {
   "cell_type": "code",
   "execution_count": null,
   "id": "9d4dc4bc-ff33-4d1e-8df6-1c72421488f6",
   "metadata": {},
   "outputs": [],
   "source": [
    "# Constants\n",
    "FRAMES_PER_SECOND = 30\n",
    "FRAMES = data.coords[\"frame\"].values\n",
    "\n",
    "# Create a video player widget\n",
    "video_player = pn.widgets.Player(\n",
    "    length=len(data.coords[\"frame\"]),\n",
    "    interval=1000 // FRAMES_PER_SECOND,  # Milliseconds\n",
    "    value=int(FRAMES.min()),\n",
    "    max_width=400,\n",
    "    max_height=90,\n",
    "    loop_policy=\"loop\",\n",
    "    sizing_mode=\"stretch_width\",\n",
    ")\n",
    "\n",
    "# Create a main plot\n",
    "main_plot = data.hvplot.image(\n",
    "    groupby=\"frame\",\n",
    "    cmap=\"Viridis\",\n",
    "    frame_height=400,\n",
    "    frame_width=400,\n",
    "    colorbar=False,\n",
    "    widgets={\"frame\": video_player},\n",
    ")\n",
    "\n",
    "# frame indicator lines on side plots\n",
    "line_opts = dict(color='red', alpha=.6, line_width=3)\n",
    "dmap_hline = hv.DynamicMap(pn.bind(lambda value: hv.HLine(value), video_player)).opts(**line_opts)\n",
    "dmap_vline = hv.DynamicMap(pn.bind(lambda value: hv.VLine(value), video_player)).opts(**line_opts)\n",
    "\n",
    "right_plot = data.mean(['width']).hvplot.image(x='frame',\n",
    "    cmap=\"Viridis\",\n",
    "    frame_height=400,\n",
    "    frame_width=200,\n",
    "    colorbar=False,\n",
    "    rasterize=True,\n",
    "    title='_', # TODO: Fix this. See https://github.com/bokeh/bokeh/issues/13225#issuecomment-1611172355\n",
    ") * dmap_vline\n",
    "\n",
    "# TODO: Have frame progression going from main plot\n",
    "bottom_plot = data.mean(['height']).hvplot.image(y='frame',\n",
    "    cmap=\"Viridis\",\n",
    "    frame_height=200,\n",
    "    frame_width=400,\n",
    "    colorbar=False,\n",
    "    rasterize=True,\n",
    "    # invert_yaxis=True # TODO: Fix this. See https://github.com/holoviz/holoviews/issues/5801\n",
    "    # ylim = (data.frame.size-1,0), # TODO: OR Fix this. Supposed to be a invert_yaxis workaround. See https://discourse.holoviz.org/t/hvplot-image-invert-y-axis/5625/2?u=droumis\n",
    ") * dmap_hline\n",
    "\n",
    "video_player.margin = (20, 20, 20, 70) # TODO: Fix this. Hack to center widget over main\n",
    "\n",
    "# Below, select just main_plot[0] so we can handle the widget placement explicitly\n",
    "sim_app = pn.Column(\n",
    "    video_player,\n",
    "    pn.Row(main_plot[0], right_plot),\n",
    "    bottom_plot)\n",
    "\n",
    "sim_app"
   ]
  },
  {
   "cell_type": "code",
   "execution_count": null,
   "id": "0bfd351d-aff5-487d-942c-b3789b92252a",
   "metadata": {},
   "outputs": [],
   "source": []
  }
 ],
 "metadata": {
  "kernelspec": {
   "display_name": "Python 3 (ipykernel)",
   "language": "python",
   "name": "python3"
  },
  "language_info": {
   "codemirror_mode": {
    "name": "ipython",
    "version": 3
   },
   "file_extension": ".py",
   "mimetype": "text/x-python",
   "name": "python",
   "nbconvert_exporter": "python",
   "pygments_lexer": "ipython3",
   "version": "3.9.18"
  }
 },
 "nbformat": 4,
 "nbformat_minor": 5
}
