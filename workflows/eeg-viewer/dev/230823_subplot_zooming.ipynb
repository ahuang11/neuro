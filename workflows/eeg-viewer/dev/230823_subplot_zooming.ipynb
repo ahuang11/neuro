{
 "cells": [
  {
   "cell_type": "markdown",
   "id": "0608ed9b-d300-438f-b64c-d57ff3ba2204",
   "metadata": {},
   "source": [
    "## Stacked trace indpendent zooming\n",
    "- https://github.com/bokeh/bokeh/pull/13345"
   ]
  },
  {
   "cell_type": "code",
   "execution_count": 4,
   "id": "dd534307-9000-478b-b117-c3f1bd6c1498",
   "metadata": {},
   "outputs": [],
   "source": [
    "import numpy as np\n",
    "\n",
    "from bokeh.core.properties import field\n",
    "from bokeh.io import show\n",
    "from bokeh.models import (ColumnDataSource, DataRange1d, FactorRange,\n",
    "                          HoverTool, Range1d, WheelZoomTool, ZoomInTool, ZoomOutTool)\n",
    "from bokeh.plotting import figure\n",
    "from bokeh.palettes import Category10\n",
    "\n",
    "np.random.seed(0)\n",
    "\n",
    "n_channels = 10\n",
    "n_seconds = 15\n",
    "fs = 512\n",
    "max_ch_disp = 5  # max channels to initially display\n",
    "max_t_disp = 3 # max time in seconds to initially display\n",
    "\n",
    "total_samples = n_seconds * fs\n",
    "time = np.linspace(0, n_seconds, total_samples)\n",
    "data = np.random.randn(n_channels, total_samples).cumsum(axis=1)\n",
    "channels = [f'EEG {i}' for i in range(n_channels)]\n",
    "\n",
    "hover = HoverTool(tooltips=[\n",
    "    (\"Channel\", \"$name\"),\n",
    "    (\"Time\", \"$x s\"),\n",
    "    (\"Amplitude\", \"$y µV\"),\n",
    "])\n",
    "\n",
    "x_range = Range1d(start=time.min(), end=time.max())\n",
    "#x_range = DataRange1d()\n",
    "y_range = FactorRange(factors=channels)\n",
    "\n",
    "p = figure(x_range=x_range, y_range=y_range, lod_threshold=None)\n",
    "\n",
    "source = ColumnDataSource(data=dict(time=time))\n",
    "renderers = []\n",
    "\n",
    "for i, channel in enumerate(channels):\n",
    "    xy = p.subplot(\n",
    "        x_source=p.x_range,\n",
    "        y_source=Range1d(start=data[i].min(), end=data[i].max()),\n",
    "        #y_source=DataRange1d(),\n",
    "        x_target=p.x_range,\n",
    "        y_target=Range1d(start=i, end=i + 1),\n",
    "    )\n",
    "\n",
    "    source.data[channel] = data[i]\n",
    "    line = xy.line(field(\"time\"), field(channel), color=Category10[10][i], source=source, name=channel)\n",
    "    renderers.append(line)\n",
    "\n",
    "wheel_zoom = WheelZoomTool()#renderers=renderers)\n",
    "zoom_in = ZoomInTool(renderers=renderers, dimensions='height')\n",
    "zoom_out = ZoomOutTool(renderers=renderers, dimensions='height')\n",
    "\n",
    "p.add_tools(wheel_zoom, zoom_in, zoom_out, hover)\n",
    "p.toolbar.active_scroll = wheel_zoom\n",
    "\n",
    "show(p)"
   ]
  },
  {
   "cell_type": "code",
   "execution_count": null,
   "id": "e2863286-b2ef-441e-ab35-7613b2a057ee",
   "metadata": {},
   "outputs": [],
   "source": []
  }
 ],
 "metadata": {
  "kernelspec": {
   "display_name": "Python 3 (ipykernel)",
   "language": "python",
   "name": "python3"
  },
  "language_info": {
   "codemirror_mode": {
    "name": "ipython",
    "version": 3
   },
   "file_extension": ".py",
   "mimetype": "text/x-python",
   "name": "python",
   "nbconvert_exporter": "python",
   "pygments_lexer": "ipython3",
   "version": "3.9.16"
  }
 },
 "nbformat": 4,
 "nbformat_minor": 5
}
