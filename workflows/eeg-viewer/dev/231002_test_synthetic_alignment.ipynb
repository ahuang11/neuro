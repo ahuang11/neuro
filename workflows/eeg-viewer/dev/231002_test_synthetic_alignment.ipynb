{
 "cells": [
  {
   "cell_type": "code",
   "execution_count": null,
   "id": "250f0149-3b37-4237-ac1d-e40a06e9a547",
   "metadata": {},
   "outputs": [],
   "source": [
    "%load_ext autoreload\n",
    "%autoreload 2\n",
    "import numpy as np\n",
    "import pandas as pd\n",
    "from scipy.stats import zscore\n",
    "\n",
    "# HoloViz and Bokeh\n",
    "import colorcet as cc\n",
    "import holoviews as hv; hv.extension('bokeh')\n",
    "from holoviews.plotting.links import RangeToolLink\n",
    "from holoviews.operation.datashader import rasterize\n",
    "from holoviews import Dataset\n",
    "from bokeh.models import HoverTool, WheelZoomTool\n",
    "import panel as pn; pn.extension(template='material')\n",
    "\n",
    "# Neuro repo\n",
    "from neurodatagen.eeg import generate_eeg_powerlaw\n",
    "from hvneuro import download_file"
   ]
  },
  {
   "cell_type": "code",
   "execution_count": null,
   "id": "6ebe3a0b-0f8f-4fc6-a958-f38ed39ec4b2",
   "metadata": {},
   "outputs": [],
   "source": [
    "%%time\n",
    "n_channels = 25\n",
    "n_seconds = 30\n",
    "fs = 512\n",
    "\n",
    "data, time, channels = generate_eeg_powerlaw(n_channels, n_seconds, fs, channel_prefix='EEG')\n",
    "\n",
    "print(f'shape: {data.shape} (n_channels, samples) ')\n",
    "data"
   ]
  },
  {
   "cell_type": "code",
   "execution_count": null,
   "id": "b82458f7-7c00-4a67-b5f9-9511ba3946ff",
   "metadata": {},
   "outputs": [],
   "source": [
    "max_ch_disp = 10  # max channels to initially display\n",
    "max_t_disp = 5 # max time in seconds to initially display\n",
    "\n",
    "annotation = hv.VSpan(19, 20).opts(color='yellow', alpha=.15) # example annotation (start, end) time\n",
    "\n",
    "hover = HoverTool(tooltips=[\n",
    "    (\"Channel\", \"@channel\"),\n",
    "    (\"Time\", \"$x s\"),\n",
    "    (\"Amplitude\", \"$y µV\")])"
   ]
  },
  {
   "cell_type": "code",
   "execution_count": null,
   "id": "9e607f9a-817b-47a7-b67c-33a0974bb1e6",
   "metadata": {},
   "outputs": [],
   "source": [
    "channel_curves = []\n",
    "for channel, channel_data in zip(channels, data):\n",
    "    ds = Dataset((time, channel_data, channel), [\"Time\", \"Amplitude\", \"channel\"])\n",
    "    curve = hv.Curve(ds, \"Time\", [\"Amplitude\", \"channel\"], label=f'{channel}')\n",
    "    curve.opts(color=\"black\", line_width=1, subcoordinate_y=True, tools=[hover])\n",
    "    channel_curves.append(curve)\n",
    "\n",
    "eeg_viewer = (annotation * hv.Overlay(channel_curves, kdims=\"Channel\"))\n",
    "eeg_viewer = eeg_viewer.opts(xlabel=\"Time (s)\", ylabel=\"Channel\", show_legend=False, aspect=3, responsive=True)\n",
    "    # padding=0, xlabel=\"Time (s)\", ylabel=\"Channel\",\n",
    "    # show_legend=False, aspect=2, responsive=True,\n",
    "    # shared_axes=False, xlim=(time.min(), time.max()), backend_opts={\n",
    "    #     \"x_range.bounds\": (time.min(), time.max()),\n",
    "    #     \"y_range.bounds\": (0, len(channels))})\n",
    "\n",
    "y_positions = range(len(channels))\n",
    "yticks = [(i, ich) for i, ich in enumerate(channels)]\n",
    "\n",
    "z_data = zscore(data, axis=1)\n",
    "\n",
    "minimap = rasterize(hv.Image((time, y_positions, z_data), [\"Time (s)\", \"Channel\"], \"Amplitude (uV)\"))\n",
    "\n",
    "clim_mul = 3\n",
    "minimap = minimap.opts(\n",
    "    cmap=\"RdBu_r\", colorbar=False, xlabel='', alpha=.5, yticks=[yticks[0], yticks[-1]],\n",
    "    height=125, responsive=True, default_tools=[], shared_axes=False, clim=(-z_data.std()*clim_mul, z_data.std()*clim_mul))\n",
    "\n",
    "# Create RangeToolLink between the minimap and the main EEG viewer \n",
    "max_y_disp = np.min([len(channels)+1, max_ch_disp+1])\n",
    "RangeToolLink(minimap, eeg_viewer, axes=[\"x\", \"y\"],\n",
    "              boundsx=(None, max_t_disp),\n",
    "              boundsy=(None, max_y_disp))\n",
    "\n",
    "# eeg_app = (eeg_viewer + minimap*annotation).opts(merge_tools=False).cols(1)\n",
    "\n",
    "# eeg_app = pn.Column((eeg_viewer + minimap * annotations_overlay).cols(1), min_height=650)\n",
    "eeg_app = pn.Column((eeg_viewer + minimap * annotation).cols(1), min_height=650).servable(target='main', title='EEG Viewer with HoloViz and Bokeh')\n",
    "eeg_app"
   ]
  },
  {
   "cell_type": "code",
   "execution_count": null,
   "id": "f7df5175-52e5-4df0-bd59-c8442af43646",
   "metadata": {},
   "outputs": [],
   "source": []
  },
  {
   "cell_type": "code",
   "execution_count": null,
   "id": "ac571665-0e63-4f08-82aa-771a1c18e2b3",
   "metadata": {},
   "outputs": [],
   "source": []
  },
  {
   "cell_type": "code",
   "execution_count": null,
   "id": "8075efd1-cd3b-4410-970c-874df89eb710",
   "metadata": {},
   "outputs": [],
   "source": []
  }
 ],
 "metadata": {
  "kernelspec": {
   "display_name": "Python 3 (ipykernel)",
   "language": "python",
   "name": "python3"
  },
  "language_info": {
   "codemirror_mode": {
    "name": "ipython",
    "version": 3
   },
   "file_extension": ".py",
   "mimetype": "text/x-python",
   "name": "python",
   "nbconvert_exporter": "python",
   "pygments_lexer": "ipython3",
   "version": "3.10.12"
  }
 },
 "nbformat": 4,
 "nbformat_minor": 5
}
