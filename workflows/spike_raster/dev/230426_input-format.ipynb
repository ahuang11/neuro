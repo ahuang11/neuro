{
 "cells": [
  {
   "cell_type": "markdown",
   "id": "de5d87f5-d227-4e29-b15c-d3648099a5f5",
   "metadata": {},
   "source": [
    "# Consider the different input formats"
   ]
  },
  {
   "cell_type": "markdown",
   "id": "6cfed4e2-aaf0-45ea-bf42-f488f58f4d6c",
   "metadata": {},
   "source": [
    "## List of Array-like"
   ]
  },
  {
   "cell_type": "markdown",
   "id": "b80625af-4b22-4f45-8d63-a1736517b680",
   "metadata": {},
   "source": [
    "- This is the format that matplotlib's eventplot accepts\n",
    "- Each array contains the spiketimes for one neuron\n",
    "- error-prone in needing to maintain seperate index of neuron IDs and to add per-spike features"
   ]
  },
  {
   "cell_type": "code",
   "execution_count": 2,
   "id": "f1276ff3-fb6e-45f6-8215-470797c4f36b",
   "metadata": {
    "tags": []
   },
   "outputs": [],
   "source": [
    "import numpy as np"
   ]
  },
  {
   "cell_type": "code",
   "execution_count": 53,
   "id": "659dbfe9-71ff-4071-ac75-95a64c689cab",
   "metadata": {
    "tags": []
   },
   "outputs": [],
   "source": [
    "n_neurons = 5\n",
    "duration = 1000 # ms\n",
    "max_spikes = 10 # per neuron\n",
    "min_spikes = 1 # per neuron\n",
    "spike_times = [np.sort(np.random.randint(0, duration, size=np.random.randint(min_spikes, max_spikes_per))) for _ in range(n_neurons)]"
   ]
  },
  {
   "cell_type": "code",
   "execution_count": 54,
   "id": "b9b09cef-b6a5-41c4-bca5-926e091bfd55",
   "metadata": {
    "tags": []
   },
   "outputs": [
    {
     "data": {
      "text/plain": [
       "[array([  0,  45, 261, 386, 442, 633, 847, 892]),\n",
       " array([167, 314, 331, 390, 632, 724, 778, 828, 854]),\n",
       " array([630, 808, 893, 904]),\n",
       " array([135, 208, 226, 542, 732, 919]),\n",
       " array([127, 158, 258, 522])]"
      ]
     },
     "execution_count": 54,
     "metadata": {},
     "output_type": "execute_result"
    }
   ],
   "source": [
    "spike_times"
   ]
  },
  {
   "cell_type": "markdown",
   "id": "da239e8c-e86b-4078-86fe-08c9692ad1ff",
   "metadata": {},
   "source": [
    "## Gridded"
   ]
  },
  {
   "cell_type": "markdown",
   "id": "db853c2c-8b7e-4a0e-8751-deaf09e1a535",
   "metadata": {},
   "source": [
    "- largest data footprint\n",
    "- often, people convert to spike times before plotting"
   ]
  },
  {
   "cell_type": "code",
   "execution_count": 56,
   "id": "868a71fd-59c6-412e-80aa-cad64af2ed60",
   "metadata": {},
   "outputs": [],
   "source": [
    "import torch\n",
    "a = torch.load('spiketensor.pt')"
   ]
  },
  {
   "cell_type": "code",
   "execution_count": 59,
   "id": "84b9fe69-df67-496c-b56a-9e4a04a519f0",
   "metadata": {},
   "outputs": [
    {
     "data": {
      "text/plain": [
       "tensor([[0., 0., 0.,  ..., 0., 0., 0.],\n",
       "        [0., 0., 0.,  ..., 0., 0., 0.],\n",
       "        [0., 0., 0.,  ..., 0., 0., 0.],\n",
       "        ...,\n",
       "        [0., 0., 0.,  ..., 0., 0., 0.],\n",
       "        [0., 0., 0.,  ..., 0., 0., 0.],\n",
       "        [0., 0., 0.,  ..., 0., 0., 0.]])"
      ]
     },
     "execution_count": 59,
     "metadata": {},
     "output_type": "execute_result"
    }
   ],
   "source": [
    "a[1,:,:] # trial 1"
   ]
  },
  {
   "cell_type": "markdown",
   "id": "dd9574b6-a15a-40a2-963d-c47f4a4edc3b",
   "metadata": {},
   "source": [
    "## Tabular"
   ]
  },
  {
   "cell_type": "markdown",
   "id": "ce8abbb5-71bf-4bc1-b30d-23b2b8ecbd4f",
   "metadata": {},
   "source": [
    "- medium data footprint\n",
    "- neuron IDs stays with spike\n",
    "- easy to add per-spike features\n",
    "- pandas DF used by Allen/NWB (along with xarray for other histogram purposes)"
   ]
  },
  {
   "cell_type": "code",
   "execution_count": 61,
   "id": "c4398b77-7890-42c5-a1e1-af4c3d1a9877",
   "metadata": {
    "tags": []
   },
   "outputs": [
    {
     "data": {
      "text/html": [
       "<div>\n",
       "<style scoped>\n",
       "    .dataframe tbody tr th:only-of-type {\n",
       "        vertical-align: middle;\n",
       "    }\n",
       "\n",
       "    .dataframe tbody tr th {\n",
       "        vertical-align: top;\n",
       "    }\n",
       "\n",
       "    .dataframe thead th {\n",
       "        text-align: right;\n",
       "    }\n",
       "</style>\n",
       "<table border=\"1\" class=\"dataframe\">\n",
       "  <thead>\n",
       "    <tr style=\"text-align: right;\">\n",
       "      <th></th>\n",
       "      <th>time</th>\n",
       "      <th>neuron</th>\n",
       "    </tr>\n",
       "  </thead>\n",
       "  <tbody>\n",
       "    <tr>\n",
       "      <th>0</th>\n",
       "      <td>0.019186</td>\n",
       "      <td>15</td>\n",
       "    </tr>\n",
       "    <tr>\n",
       "      <th>1</th>\n",
       "      <td>0.071529</td>\n",
       "      <td>3</td>\n",
       "    </tr>\n",
       "    <tr>\n",
       "      <th>2</th>\n",
       "      <td>0.074711</td>\n",
       "      <td>7</td>\n",
       "    </tr>\n",
       "    <tr>\n",
       "      <th>3</th>\n",
       "      <td>0.171826</td>\n",
       "      <td>14</td>\n",
       "    </tr>\n",
       "    <tr>\n",
       "      <th>4</th>\n",
       "      <td>0.202786</td>\n",
       "      <td>3</td>\n",
       "    </tr>\n",
       "  </tbody>\n",
       "</table>\n",
       "</div>"
      ],
      "text/plain": [
       "       time neuron\n",
       "0  0.019186     15\n",
       "1  0.071529      3\n",
       "2  0.074711      7\n",
       "3  0.171826     14\n",
       "4  0.202786      3"
      ]
     },
     "execution_count": 61,
     "metadata": {},
     "output_type": "execute_result"
    }
   ],
   "source": [
    "import sys; sys.path.insert(0, '../..')\n",
    "from scripts.simdata import sim_spikes\n",
    "\n",
    "spikes_df2 = sim_spikes(num_neurons=20, firing_rate=1, duration=100)\n",
    "spikes_df2.head()"
   ]
  },
  {
   "cell_type": "code",
   "execution_count": null,
   "id": "baeb67cb-8a0b-4817-b0a1-a762e34ffc4c",
   "metadata": {},
   "outputs": [],
   "source": []
  }
 ],
 "metadata": {
  "kernelspec": {
   "display_name": "Python 3 (ipykernel)",
   "language": "python",
   "name": "python3"
  },
  "language_info": {
   "codemirror_mode": {
    "name": "ipython",
    "version": 3
   },
   "file_extension": ".py",
   "mimetype": "text/x-python",
   "name": "python",
   "nbconvert_exporter": "python",
   "pygments_lexer": "ipython3",
   "version": "3.9.16"
  }
 },
 "nbformat": 4,
 "nbformat_minor": 5
}
