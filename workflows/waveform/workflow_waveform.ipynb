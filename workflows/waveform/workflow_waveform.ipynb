{
 "cells": [
  {
   "cell_type": "markdown",
   "id": "ebfe418d-535f-4776-a873-ef08786fc0a7",
   "metadata": {
    "tags": []
   },
   "source": [
    "# Waveform\n",
    "![status](https://img.shields.io/badge/status-in%20progress-orange)\n",
    "\n",
    "<div style=\"text-align: center;\">\n",
    "    <img src=\"./assets/230524_waveform.png\" alt=\"waveform preview\" width=\"450\"/>\n",
    "</div>"
   ]
  },
  {
   "cell_type": "markdown",
   "id": "a6cda106-f458-4b96-8f2d-0a8b04c18ee9",
   "metadata": {},
   "source": [
    "## Summary"
   ]
  },
  {
   "cell_type": "markdown",
   "id": "551cbe8b-521d-41e6-aa30-8461c2d059f2",
   "metadata": {},
   "source": [
    "This waveform workflow will demonstrate oscilloscope-style display of large-scale action potential waveform snippets, scale bar, and grouping by source. "
   ]
  },
  {
   "cell_type": "markdown",
   "id": "eb330785-240e-488e-868e-bf1aab607daa",
   "metadata": {},
   "source": [
    "## Imports and config"
   ]
  },
  {
   "cell_type": "markdown",
   "id": "f68fd96c-0034-4803-a5f5-327a369e17cb",
   "metadata": {},
   "source": [
    "<div class=\"admonition alert alert-info\">\n",
    "    <p class=\"admonition-title\" style=\"font-weight:bold\">Requirements</p>\n",
    "    <p>This workflow notebook requires the <a href=\"./environment.yml\">environment</a> specified in this workflow directory.</p>\n",
    "</div>\n"
   ]
  },
  {
   "cell_type": "code",
   "execution_count": null,
   "id": "cf6385b3-b630-483e-9e97-0cfc62cf6e53",
   "metadata": {
    "tags": []
   },
   "outputs": [],
   "source": [
    "import panel as pn; pn.extension()\n",
    "import datashader as ds\n",
    "import numpy as np\n",
    "import holoviews as hv; hv.extension('bokeh')\n",
    "import hvplot.pandas\n",
    "from holoviews.operation.datashader import datashade, shade, dynspread, spread, rasterize\n",
    "from neurodatagen.ephys import load_waveform_templates, create_noisy_waveforms"
   ]
  },
  {
   "cell_type": "markdown",
   "id": "51238dad-0567-47ac-a9d4-80649a232508",
   "metadata": {},
   "source": [
    "## Generate waveform data"
   ]
  },
  {
   "cell_type": "markdown",
   "id": "e58a980e-16f3-463a-8681-05f6b7550fc1",
   "metadata": {},
   "source": [
    "The function `create_noisy_waveforms` will add noise to templates loaded with `load_waveform_templates` to generate any number of spikes."
   ]
  },
  {
   "cell_type": "markdown",
   "id": "b4ae61e2-bb94-426c-ba60-9e248359bb06",
   "metadata": {},
   "source": [
    "### Load the templates and visualize one of them"
   ]
  },
  {
   "cell_type": "code",
   "execution_count": null,
   "id": "badeef89-de9c-4872-9b38-2d3d22a7dbf8",
   "metadata": {
    "tags": []
   },
   "outputs": [],
   "source": [
    "i_template = 100\n",
    "noise_std_percent = 50\n",
    "n_spikes = 1\n",
    "\n",
    "wf = load_waveform_templates()\n",
    "template_wf = wf.iloc[i_template]\n",
    "noisy_wf = create_noisy_waveforms(template_wf.values, noise_std_percent, n_spikes)\n",
    "\n",
    "template_wf.hvplot(label='template') * hv.Curve(np.squeeze(noisy_wf), 'time', 'amplitude', label='noise-added')"
   ]
  },
  {
   "cell_type": "markdown",
   "id": "51b70919-895c-4ad1-9862-218c26a9ebdc",
   "metadata": {},
   "source": [
    "## Bonus: Create an app to explore waveform generation parameters"
   ]
  },
  {
   "cell_type": "code",
   "execution_count": null,
   "id": "0910494b-dfcf-4b49-9d48-67c4b739c4cb",
   "metadata": {
    "tags": []
   },
   "outputs": [],
   "source": [
    "pn.config.throttled = True\n",
    "c1_picker = pn.widgets.ColorPicker(name='color', value='#037bfc', width=60) # #037bfc, 003366\n",
    "c2_picker = pn.widgets.ColorPicker(name='color', value='#800020', width=60) # #d13030\n",
    "c3_picker = pn.widgets.ColorPicker(name='color', value='#daa520', width=60) # #daa520\n",
    "u1_slider = pn.widgets.IntSlider(name='unit 1', start=0, end=wf.shape[1], value=68, width=150) # unit 68\n",
    "u2_slider = pn.widgets.IntSlider(name='unit 2', start=0, end=wf.shape[1], value=55, width=150) # unit 55\n",
    "u3_slider = pn.widgets.IntSlider(name='unit 1', start=0, end=wf.shape[1], value=100, width=150) # unit 100\n",
    "numspk1_slider = pn.widgets.IntSlider(name='n spikes', start=0, end=10000, value=1000, width=150)\n",
    "numspk2_slider = pn.widgets.IntSlider(name='n spikes', start=0, end=10000, value=1000, width=150)\n",
    "numspk3_slider = pn.widgets.IntSlider(name='n spikes', start=0, end=10000, value=1000, width=150)\n",
    "perc_std_slider1 = pn.widgets.IntSlider(name='noise std %', start=0, end=300, value=50, width=150)\n",
    "perc_std_slider2 = pn.widgets.IntSlider(name='noise std %', start=0, end=300, value=30, width=150)\n",
    "perc_std_slider3 = pn.widgets.IntSlider(name='noise std %', start=0, end=300, value=40, width=150)\n",
    "\n",
    "\n",
    "def plot_overlay(wfs, c1, c2, c3):\n",
    "    return datashade(hv.NdOverlay(wfs, kdims='unit', ), color_key={1:c1, 2:c2, 3:c3},\n",
    "                     aggregator=ds.by('unit', ds.count(self_intersect=True)), line_width=1).opts(\n",
    "        tools=['hover'], responsive=True, height=400, xlabel='time', ylabel='amplitude',\n",
    "        xlim=(20,100))\n",
    "\n",
    "def waveform_dash(c1, c2, c3, u1, u2, u3, numspk1, numspk2, numspk3, noise1, noise2, noise3):\n",
    "    spike_waveform1 = wf.iloc[u1].values\n",
    "    spike_waveform2 = wf.iloc[u2].values\n",
    "    spike_waveform3 = wf.iloc[u3].values\n",
    "\n",
    "    noisy_spike_waveforms1 = create_noisy_waveforms(spike_waveform1, num_spikes = numspk1, noise_std_percent=noise1)\n",
    "    noisy_spike_waveforms2 = create_noisy_waveforms(spike_waveform2, num_spikes = numspk2, noise_std_percent=noise2)\n",
    "    noisy_spike_waveforms3 = create_noisy_waveforms(spike_waveform3, num_spikes = numspk3, noise_std_percent=noise3)\n",
    "    \n",
    "    wfs = {}\n",
    "    time = np.arange(noisy_spike_waveforms1.shape[1])\n",
    "    wfs[1] = hv.Path((time, noisy_spike_waveforms1.T))\n",
    "    wfs[2] = hv.Path((time, noisy_spike_waveforms2.T))\n",
    "    wfs[3] = hv.Path((time, noisy_spike_waveforms3.T))\n",
    "    plot = plot_overlay(wfs, c1, c2, c3) \n",
    "    return plot\n",
    "\n",
    "bound = pn.bind(waveform_dash, c1_picker, c2_picker, c3_picker, u1_slider, u2_slider, u3_slider, \n",
    "               numspk1_slider, numspk2_slider, numspk3_slider, perc_std_slider1, perc_std_slider2, perc_std_slider3)\n",
    "\n",
    "\n",
    "tab1 = pn.Column(u1_slider, numspk1_slider, perc_std_slider1, c1_picker)\n",
    "tab2 = pn.Column(u2_slider, numspk2_slider, perc_std_slider2, c2_picker)\n",
    "tab3 = pn.Column(u3_slider, numspk3_slider, perc_std_slider3, c3_picker)\n",
    "\n",
    "tabs = pn.Tabs((\"Unit 1\", tab1), (\"Unit 2\", tab2), (\"Unit 3\", tab3))\n",
    "\n",
    "layout = pn.Row(bound, tabs)\n",
    "\n",
    "layout\n",
    "\n",
    "# pn.Row(bound,\n",
    "#        pn.Column(u1_slider, numspk1_slider, perc_std_slider1, c1_picker, pn.Spacer(height=50), \n",
    "#               u2_slider, numspk2_slider,  perc_std_slider2, c2_picker))"
   ]
  },
  {
   "cell_type": "markdown",
   "id": "61aa97e5-f9a4-4e9d-8792-7b1f04079050",
   "metadata": {},
   "source": [
    "## Plot waveform viewer on generated data"
   ]
  },
  {
   "cell_type": "markdown",
   "id": "0099f241-a233-41e1-9833-8e9ea2b35650",
   "metadata": {},
   "source": [
    "## Plot real data"
   ]
  },
  {
   "cell_type": "code",
   "execution_count": null,
   "id": "0007d222-44c3-4472-a76e-8c00e6e3bd26",
   "metadata": {},
   "outputs": [],
   "source": []
  }
 ],
 "metadata": {
  "kernelspec": {
   "display_name": "Python 3 (ipykernel)",
   "language": "python",
   "name": "python3"
  },
  "language_info": {
   "codemirror_mode": {
    "name": "ipython",
    "version": 3
   },
   "file_extension": ".py",
   "mimetype": "text/x-python",
   "name": "python",
   "nbconvert_exporter": "python",
   "pygments_lexer": "ipython3",
   "version": "3.11.6"
  }
 },
 "nbformat": 4,
 "nbformat_minor": 5
}
