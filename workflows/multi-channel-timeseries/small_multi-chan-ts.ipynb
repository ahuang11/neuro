{
 "cells": [
  {
   "cell_type": "markdown",
   "metadata": {},
   "source": [
    "# Multi-Channel Timeseries (Small, In-Memory)"
   ]
  },
  {
   "cell_type": "markdown",
   "metadata": {},
   "source": [
    "Insert text about this focusing on using a numpy array approach without any downsampling"
   ]
  },
  {
   "cell_type": "code",
   "execution_count": null,
   "metadata": {},
   "outputs": [],
   "source": [
    "import numpy as np; np.random.seed(0)\n",
    "import pandas as pd\n",
    "from scipy.stats import zscore\n",
    "import string\n",
    "\n",
    "import colorcet as cc\n",
    "import holoviews as hv; hv.extension('bokeh')\n",
    "from holoviews.plotting.links import RangeToolLink\n",
    "from holoviews.operation.datashader import rasterize\n",
    "from holoviews import opts\n",
    "from holoviews import Dataset\n",
    "from bokeh.models import HoverTool\n",
    "import panel as pn; pn.extension(template='fast')\n",
    "from holonote.annotate import Annotator\n",
    "from holonote.app import PanelWidgets"
   ]
  },
  {
   "cell_type": "markdown",
   "metadata": {},
   "source": [
    "## Generate fake data"
   ]
  },
  {
   "cell_type": "code",
   "execution_count": null,
   "metadata": {},
   "outputs": [],
   "source": [
    "n_channels = 8\n",
    "n_seconds = 300\n",
    "fs = 256  # Sampling frequency\n",
    "\n",
    "init_freq = .01  # Initial sine wave frequency in Hz\n",
    "freq_inc = 2/n_channels  # Frequency increment\n",
    "amplitude = 1\n",
    "\n",
    "total_samples = n_seconds * fs\n",
    "time = np.linspace(0, n_seconds, total_samples)\n",
    "channels = [f'CH {i}' for i in range(n_channels)]\n",
    "groups = ['EEG'] * (n_channels // 2) + ['MEG'] * (n_channels - n_channels // 2)\n",
    "\n",
    "data = np.array([amplitude * np.sin(2 * np.pi * (init_freq + i * freq_inc) * time)\n",
    "                 for i in range(n_channels)])\n",
    "print(f'shape: {data.shape} (n_channels, samples) ')"
   ]
  },
  {
   "cell_type": "markdown",
   "metadata": {},
   "source": [
    "## Visualize multi-channel timeseries"
   ]
  },
  {
   "cell_type": "code",
   "execution_count": null,
   "metadata": {},
   "outputs": [],
   "source": [
    "time_dim = hv.Dimension('Time', unit='s')\n",
    "amplitude_dim = hv.Dimension('Amplitude', unit='µV')\n",
    "\n",
    "# set group colors\n",
    "color_map = dict(zip(set(groups), cc.b_glasbey_bw_minc_20[::-1][:len(set(groups))]))\n",
    "group_color_opts = [opts.Curve(grp, color=grpclr) for grp, grpclr in color_map.items()]\n",
    "\n",
    "# Create curves overlay plot\n",
    "curves = []\n",
    "for group, channel, channel_data in zip(groups, channels, data):\n",
    "    ds = Dataset((time, channel_data), [time_dim, amplitude_dim])\n",
    "    curve = hv.Curve(ds, time_dim, amplitude_dim, group=group, label=f'{channel}')\n",
    "    curve.opts(\n",
    "        subcoordinate_y=True,\n",
    "        subcoordinate_scale=.75,\n",
    "        color=\"black\",\n",
    "        line_width=1,\n",
    "        tools=['hover'],\n",
    "        hover_tooltips=[(\"Group\", \"$group\"), (\"Channel\", \"$label\"), \"Time\", \"Amplitude\"],\n",
    "        )\n",
    "    curves.append(curve)\n",
    "\n",
    "curves_overlay = hv.Overlay(curves, kdims=\"Channel\")\n",
    "\n",
    "curves_overlay = curves_overlay.opts(\n",
    "    *group_color_opts,\n",
    "    opts.Overlay(\n",
    "    xlabel=\"Time (s)\", ylabel=\"Channel\", show_legend=False,\n",
    "    padding=0, aspect=1.5, responsive=True, shared_axes=False, framewise=False, min_height=100,)\n",
    ")\n",
    "\n",
    "# Create minimap\n",
    "y_positions = range(len(channels))\n",
    "yticks = [(i, ich) for i, ich in enumerate(channels)]\n",
    "z_data = zscore(data, axis=1)\n",
    "minimap = rasterize(hv.Image((time, y_positions, z_data), [\"Time (s)\", \"Channel\"], \"Amplitude (uV)\"))\n",
    "minimap = minimap.opts(\n",
    "    cmap=\"RdBu_r\",\n",
    "    colorbar=False,\n",
    "    xlabel='',\n",
    "    alpha=0.5,\n",
    "    yticks=[yticks[0], yticks[-1]],\n",
    "    toolbar='disable',\n",
    "    height=120,\n",
    "    responsive=True,\n",
    "    default_tools=[],\n",
    "    )\n",
    "\n",
    "# Link minimap widget to curves overlay plot\n",
    "RangeToolLink(minimap, curves_overlay, axes=[\"x\", \"y\"],\n",
    "              boundsy=(-.5, 5.5),\n",
    "              boundsx=(0, time[len(time)//3])\n",
    "             )\n",
    "\n",
    "app = pn.Column((curves_overlay + minimap).cols(1), min_height=500).servable()\n",
    "app\n"
   ]
  },
  {
   "cell_type": "markdown",
   "metadata": {},
   "source": [
    "## Add Time-Range Annotations"
   ]
  },
  {
   "cell_type": "markdown",
   "metadata": {},
   "source": [
    "## Add time-range annotation (Under Construction)"
   ]
  },
  {
   "cell_type": "markdown",
   "metadata": {},
   "source": [
    "### Create fake time range annotations"
   ]
  },
  {
   "cell_type": "code",
   "execution_count": null,
   "metadata": {},
   "outputs": [],
   "source": [
    "def create_range_annotations(n_total_seconds: int, n_categories: int, \n",
    "                             n_total_annotations: int, duration: int = 1) -> pd.DataFrame:\n",
    "\n",
    "    \n",
    "    start_times = np.sort(np.random.randint(0, n_total_seconds - duration, n_total_annotations))\n",
    "    \n",
    "    # Ensure the annotations are non-overlapping\n",
    "    for i in range(1, len(start_times)):\n",
    "        if start_times[i] < start_times[i-1] + duration:\n",
    "            start_times[i] = start_times[i-1] + duration\n",
    "    end_times = start_times + duration\n",
    "    categories = np.random.choice(list(string.ascii_uppercase)[:n_categories], n_total_annotations)\n",
    "    \n",
    "    df = pd.DataFrame({\n",
    "        'start': start_times,\n",
    "        'end': end_times,\n",
    "        'category': categories\n",
    "    })\n",
    "    df['category'] = df['category'].astype('category')\n",
    "    return df\n",
    "\n",
    "np.random.seed(1)\n",
    "n_categories = 2\n",
    "n_total_annotations = 5\n",
    "annotations_df = create_range_annotations(n_seconds, n_categories, n_total_annotations)\n",
    "annotations_df.sample(5)"
   ]
  },
  {
   "cell_type": "code",
   "execution_count": null,
   "metadata": {},
   "outputs": [],
   "source": [
    "\n",
    "annotator = Annotator({\"Time\": float}, fields=[\"category\"])\n",
    "annotator.define_annotations(annotations_df, Time=(\"start\", \"end\"))\n",
    "\n",
    "annotations_4_overlay = annotator.get_element(\"Time\")\n",
    "\n",
    "# Setup Annotator styling and groupby\n",
    "unique_categories = [\"A\", \"B\", \"C\"]\n",
    "color_map = dict(zip(unique_categories, cc.glasbey[:len(unique_categories)]))\n",
    "\n",
    "annotator.style.color = hv.dim(\"category\").categorize(categories=color_map, default=\"grey\")\n",
    "annotator.groupby = \"category\"\n",
    "widget = pn.widgets.MultiSelect(name=\"Show category\", value=[\"B\", \"C\"], options=[\"A\", \"B\", \"C\"], )\n",
    "annotator.visible = widget\n",
    "widget.servable(location='sidebar')\n",
    "\n",
    "annotator_tools = PanelWidgets(annotator, {\"category\": unique_categories})\n",
    "\n",
    "# TODO: BUG: adding the annotator tools to the servable app prevents anything from displaying when served\n",
    "annotator_tools_pn = pn.panel(annotator_tools).servable(target='sidebar')\n",
    "\n",
    "app_w_annotator = pn.Column((curves_overlay * annotations_overlay + minimap * annotations_overlay).cols(1), min_height=500).servable()"
   ]
  },
  {
   "cell_type": "code",
   "execution_count": null,
   "metadata": {},
   "outputs": [],
   "source": []
  }
 ],
 "metadata": {
  "kernelspec": {
   "display_name": "Python 3 (ipykernel)",
   "language": "python",
   "name": "python3"
  },
  "language_info": {
   "codemirror_mode": {
    "name": "ipython",
    "version": 3
   },
   "file_extension": ".py",
   "mimetype": "text/x-python",
   "name": "python",
   "nbconvert_exporter": "python",
   "pygments_lexer": "ipython3",
   "version": "3.12.2"
  }
 },
 "nbformat": 4,
 "nbformat_minor": 4
}
