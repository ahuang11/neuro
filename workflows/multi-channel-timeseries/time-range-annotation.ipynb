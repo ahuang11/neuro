{
 "cells": [
  {
   "cell_type": "markdown",
   "id": "946cac3d-a9ae-4b59-b429-b0ea93357fc9",
   "metadata": {},
   "source": [
    "# Time Range Annotation"
   ]
  },
  {
   "cell_type": "markdown",
   "id": "d70b340b-3370-4c1e-81b7-4c78b25518f3",
   "metadata": {},
   "source": [
    "## Requirements\n",
    "- [ ] Add/remove individual annotations: \n",
    "  - \n"
   ]
  },
  {
   "cell_type": "code",
   "execution_count": null,
   "id": "c7d23b24-720f-49c5-8ac1-6680be3c117e",
   "metadata": {},
   "outputs": [],
   "source": [
    "import numpy as np; np.random.seed(0)\n",
    "import pandas as pd\n",
    "from scipy.stats import zscore\n",
    "import string\n",
    "\n",
    "import colorcet as cc\n",
    "import holoviews as hv; hv.extension('bokeh')\n",
    "from holoviews.plotting.links import RangeToolLink\n",
    "from holoviews.operation.datashader import rasterize\n",
    "from holoviews import Dataset\n",
    "from bokeh.models import HoverTool\n",
    "from holonote.annotate import Annotator\n",
    "from holonote.app import PanelWidgets\n",
    "import panel as pn\n",
    "pn.extension('tabulator')"
   ]
  },
  {
   "cell_type": "markdown",
   "id": "9b82ee6d-156d-4587-9b1e-3d75f052d3c3",
   "metadata": {},
   "source": [
    "## Create Multi-Channel Timeseries Plot"
   ]
  },
  {
   "cell_type": "markdown",
   "id": "0fc2d4be-d69b-490d-a378-bcd9b0e9944b",
   "metadata": {},
   "source": [
    "We'll use the the [small-data approach](./small_multi-chan-ts.ipynb), but the annotations should work with any of the demonstrated approaches."
   ]
  },
  {
   "cell_type": "markdown",
   "id": "3b47646e-0f6f-4014-9971-b09c1acc93b1",
   "metadata": {},
   "source": [
    "### Generate fake data"
   ]
  },
  {
   "cell_type": "code",
   "execution_count": null,
   "id": "23056c00-1eb5-4365-b6ab-ba5e8c42eb03",
   "metadata": {},
   "outputs": [],
   "source": [
    "n_channels = 8\n",
    "n_seconds = 300\n",
    "fs = 256  # Sampling frequency\n",
    "\n",
    "init_freq = .01  # Initial sine wave frequency in Hz\n",
    "freq_inc = 2/n_channels  # Frequency increment\n",
    "amplitude = 1\n",
    "\n",
    "total_samples = n_seconds * fs\n",
    "time = np.linspace(0, n_seconds, total_samples)\n",
    "channels = [f'CH {i}' for i in range(n_channels)]\n",
    "groups = ['EEG'] * (n_channels // 2) + ['MEG'] * (n_channels - n_channels // 2)\n",
    "\n",
    "data = np.array([amplitude * np.sin(2 * np.pi * (init_freq + i * freq_inc) * time)\n",
    "                 for i in range(n_channels)])\n",
    "print(f'shape: {data.shape} (n_channels, samples) ')"
   ]
  },
  {
   "cell_type": "markdown",
   "id": "f67e5f59-77fd-4f64-9d98-3334576a4b15",
   "metadata": {},
   "source": [
    "### Create Plot"
   ]
  },
  {
   "cell_type": "markdown",
   "id": "eb2c4d7a-ef9e-4114-a7f8-4457602149ee",
   "metadata": {},
   "source": [
    "- TODO: why does including the minimap limit the height of the subcoord plot?"
   ]
  },
  {
   "cell_type": "code",
   "execution_count": null,
   "id": "d2f93794-8f3e-4b2c-8c19-dcdb1bf9989f",
   "metadata": {},
   "outputs": [],
   "source": [
    "time_dim = hv.Dimension('Time', unit='s')\n",
    "amplitude_dim = hv.Dimension('Amplitude', unit='µV')\n",
    "\n",
    "curves = []\n",
    "for group, channel, channel_data in zip(groups, channels, data):\n",
    "    ds = Dataset((time, channel_data), [time_dim, amplitude_dim])\n",
    "    curve = hv.Curve(ds, time_dim, amplitude_dim, group=group, label=f'{channel}')\n",
    "    curve.opts(\n",
    "        subcoordinate_y=True,\n",
    "        subcoordinate_scale=.75,\n",
    "        color=\"black\",\n",
    "        line_width=1,\n",
    "        tools=['hover'],\n",
    "        hover_tooltips=[(\"Group\", \"$group\"), (\"Channel\", \"$label\"), \"Time\", \"Amplitude\"],\n",
    "        apply_hard_bounds=True,\n",
    "        )\n",
    "    curves.append(curve)\n",
    "\n",
    "curves_overlay = hv.Overlay(curves, kdims=\"Channel\")\n",
    "\n",
    "curves_overlay = curves_overlay.opts(\n",
    "    xlabel=\"Time (s)\",\n",
    "    ylabel=\"Channel\",\n",
    "    show_legend=False,\n",
    "    padding=0,\n",
    "    responsive=True,\n",
    "    shared_axes=False,\n",
    ")\n",
    "\n",
    "# Minimap\n",
    "y_positions = range(len(channels))\n",
    "yticks = [(i, ich) for i, ich in enumerate(channels)]\n",
    "z_data = zscore(data, axis=1)\n",
    "minimap = rasterize(hv.Image((time, y_positions, z_data), [\"Time (s)\", \"Channel\"], \"Amplitude (uV)\"))\n",
    "minimap = minimap.opts(\n",
    "    cmap=\"RdBu_r\",\n",
    "    colorbar=False,\n",
    "    xlabel='',\n",
    "    alpha=0.5,\n",
    "    yticks=[yticks[0], yticks[-1]],\n",
    "    max_height=150,\n",
    "    responsive=True,\n",
    "    default_tools=[],\n",
    ")\n",
    "\n",
    "# Link the curves plot to minimap\n",
    "link = RangeToolLink(minimap, curves_overlay, axes=[\"x\", \"y\"],\n",
    "              boundsy=(-.5, 3.5),\n",
    "              boundsx=(0, time[len(time)//3])\n",
    "             )\n",
    "\n",
    "pn.Column((curves_overlay + minimap).cols(1), min_height=500)\n"
   ]
  },
  {
   "cell_type": "markdown",
   "id": "4daf2b40-7b00-4644-8258-208d3bd7a904",
   "metadata": {},
   "source": [
    "## Time-Range Annotation"
   ]
  },
  {
   "cell_type": "markdown",
   "id": "23883ada-66b2-49bb-a55a-d83e5493a15d",
   "metadata": {},
   "source": [
    "### Create fake time range annotations"
   ]
  },
  {
   "cell_type": "code",
   "execution_count": null,
   "id": "f894500b-0224-49be-a737-f105f7757938",
   "metadata": {},
   "outputs": [],
   "source": [
    "def create_range_annotations(n_total_seconds: int, n_categories: int, \n",
    "                             n_total_annotations: int, duration: int = 1) -> pd.DataFrame:\n",
    "\n",
    "    \n",
    "    start_times = np.sort(np.random.randint(0, n_total_seconds - duration, n_total_annotations))\n",
    "    \n",
    "    # Ensure the annotations are non-overlapping\n",
    "    for i in range(1, len(start_times)):\n",
    "        if start_times[i] < start_times[i-1] + duration:\n",
    "            start_times[i] = start_times[i-1] + duration\n",
    "    end_times = start_times + duration\n",
    "    categories = np.random.choice(list(string.ascii_uppercase)[:n_categories], n_total_annotations)\n",
    "    \n",
    "    df = pd.DataFrame({\n",
    "        'start': start_times,\n",
    "        'end': end_times,\n",
    "        'category': categories\n",
    "    })\n",
    "    df['category'] = df['category'].astype('category')\n",
    "    df = df.sort_values('start')\n",
    "    return df\n",
    "\n",
    "np.random.seed(3)\n",
    "n_categories = 4\n",
    "n_total_annotations = 50\n",
    "annotations_df = create_range_annotations(n_seconds, n_categories, n_total_annotations)\n",
    "unique_categories = list(annotations_df['category'].unique()) + ['other']\n",
    "unique_categories.sort()\n",
    "print(unique_categories)\n",
    "annotations_df.head()"
   ]
  },
  {
   "cell_type": "markdown",
   "id": "8c62bff0-0bb2-4ba0-b9f0-5aabcf119581",
   "metadata": {},
   "source": [
    "## Create and Populate Annotator Instance"
   ]
  },
  {
   "cell_type": "markdown",
   "id": "2063aa3f-dae4-42da-8d70-5a5c527504af",
   "metadata": {},
   "source": [
    "First, define the Annotator instance. We'll specify the primary annotation 'Time' range type as float and then list the field we want to include, 'category'"
   ]
  },
  {
   "cell_type": "code",
   "execution_count": null,
   "id": "5a87a642-b62b-487c-be0d-692be2d0f812",
   "metadata": {},
   "outputs": [],
   "source": [
    "annotator = Annotator({\"Time\": float}, fields=[\"category\"])\n",
    "print('spec:', annotator.spec)\n",
    "print('fields:', annotator.fields)"
   ]
  },
  {
   "cell_type": "markdown",
   "id": "5db6b232-49f5-46e5-a69e-c79d7790987c",
   "metadata": {},
   "source": [
    "Next, we'll add our fake annotations to the annotator table"
   ]
  },
  {
   "cell_type": "code",
   "execution_count": null,
   "id": "a7d2f2f6-fe1c-41bc-96cc-af8ee385089d",
   "metadata": {},
   "outputs": [],
   "source": [
    "annotator.define_annotations(annotations_df, Time=(\"start\", \"end\"))\n",
    "annotator.df.head()"
   ]
  },
  {
   "cell_type": "markdown",
   "id": "45c52b60-5f20-4a0b-a6eb-f5140fff9ca6",
   "metadata": {},
   "source": [
    "## Define styling"
   ]
  },
  {
   "cell_type": "markdown",
   "id": "c8fe0373-8a7b-4c09-8e72-4c05b28f6835",
   "metadata": {},
   "source": [
    "TODO: This is not intuitive.. it should just be done automatically and hidden from most users"
   ]
  },
  {
   "cell_type": "code",
   "execution_count": null,
   "id": "1a174082-7c86-4bc2-aba8-e09c5f23898a",
   "metadata": {},
   "outputs": [],
   "source": [
    "color_map = dict(zip(unique_categories, cc.glasbey[:len(unique_categories)]))\n",
    "annotator.style.color = hv.dim(\"category\").categorize(categories=color_map, default=\"grey\")\n",
    "annotator.style.color"
   ]
  },
  {
   "cell_type": "code",
   "execution_count": null,
   "id": "f9c1bac0-c99b-4e01-928e-e00994793712",
   "metadata": {},
   "outputs": [],
   "source": [
    "color_map"
   ]
  },
  {
   "cell_type": "code",
   "execution_count": null,
   "id": "15405a42-5346-4720-8304-8bcc6bfdb48d",
   "metadata": {},
   "outputs": [],
   "source": [
    "styles = \":root {\"\n",
    "class_names = []\n",
    "for index, category in enumerate(unique_categories, start=1):\n",
    "    class_name = f\"custom-color-{index}\"\n",
    "    class_names.append(class_name)\n",
    "    color = color_map.get(category, '#333')  # Default color if not found\n",
    "    styles += f\"\"\"\n",
    "    --{class_name}-bg-color: {color};\n",
    "    --{class_name}-border-color: {color};\n",
    "    \"\"\"\n",
    "styles += \"}\"\n",
    "\n",
    "# CSS rules using the custom properties\n",
    "button_css = \"\\n\".join(f\"\"\"\n",
    ":host(.{class_name}) .bk-btn {{\n",
    "    background-color: var(--{class_name}-bg-color) !important;\n",
    "    border-color: var(--{class_name}-border-color) !important;\n",
    "}}\n",
    "\"\"\" for class_name in class_names)\n",
    "styles += button_css"
   ]
  },
  {
   "cell_type": "code",
   "execution_count": null,
   "id": "154c8268-003b-44a9-8433-b2f74b2aaeac",
   "metadata": {},
   "outputs": [],
   "source": [
    "styles"
   ]
  },
  {
   "cell_type": "markdown",
   "id": "d825fc21-8fc8-4a8b-a94c-feeee1a02f1d",
   "metadata": {},
   "source": [
    "TODO: Why was this groupby needed? It's not intuitive and doesn't seem to make an impact?"
   ]
  },
  {
   "cell_type": "code",
   "execution_count": null,
   "id": "0b8714a8-e1b8-41f3-a8f5-9c1d26eb5b31",
   "metadata": {},
   "outputs": [],
   "source": [
    "# annotator.groupby = \"category\"\n",
    "# annotator.groupby"
   ]
  },
  {
   "cell_type": "markdown",
   "id": "d6856cbf-bb2d-4f45-ba53-3214d4fbe630",
   "metadata": {},
   "source": [
    "## Create Widgets"
   ]
  },
  {
   "cell_type": "markdown",
   "id": "16089f9b-bc39-4f0a-b4fe-cd21b3813558",
   "metadata": {},
   "source": [
    "- TODO: There should be a default API for something like `annotator.widget_select` to create all this automatically\n",
    "- TODO: make the table responsive to any updates by the GUI, like adding or subtracting annotations\n",
    "- TODO: adding the annotator tools to the servable app prevents anything from displaying when served\n",
    "- TODO: Why can't I insert floats into the table cols of start, end in the GUI?\n",
    "- TODO: what does the pencil icon do?\n",
    "- TODO: how to color each button of a checkbuttongroup so I don't have to do all this"
   ]
  },
  {
   "cell_type": "code",
   "execution_count": null,
   "id": "8a7b4524-3bc8-4ab8-b19a-7569c40805e9",
   "metadata": {},
   "outputs": [],
   "source": [
    "colored_widgets_select = [\n",
    "    pn.widgets.Toggle(name=cat,\n",
    "                      button_style='outline',\n",
    "                      stylesheets=[f':host {{ --surface-color: {clr}; }}'],\n",
    "                      margin=(0, 0, 0, 10 if i == 0 else 0))\n",
    "    for i, (cat, clr) in enumerate(color_map.items()) \n",
    "]\n",
    "colored_widgets_select = pn.Row(*colored_widgets_select)"
   ]
  },
  {
   "cell_type": "code",
   "execution_count": null,
   "id": "31847600-fad7-4ef6-b2a6-1c260a05ced2",
   "metadata": {},
   "outputs": [],
   "source": [
    "widget_select = pn.widgets.CheckButtonGroup(value=unique_categories, options=unique_categories,)\n",
    "annotator.visible = widget_select\n",
    "annotator_tools = pn.panel(PanelWidgets(annotator, {\"category\": unique_categories}))\n",
    "\n",
    "widgets = pn.WidgetBox(\n",
    "    pn.pane.Markdown('## Time Annotation', align='center'),\n",
    "    pn.pane.Markdown('### Show/Hide'),\n",
    "    widget_select,\n",
    "    colored_widgets_select,\n",
    "    pn.layout.Divider(),\n",
    "    # pn.pane.Markdown('### Table'),\n",
    "    pn.Row(pn.widgets.Select(name='Select all of', value=unique_categories[0], options=unique_categories, width=100),\n",
    "    pn.widgets.Button(name='Deselect',\n",
    "                     icon='deselect',\n",
    "                     button_type='primary',\n",
    "                      align='end'),\n",
    "    pn.widgets.Button(name='Delete',\n",
    "                     icon='skull',\n",
    "                     button_type='danger',\n",
    "                      align='end')),\n",
    "    pn.widgets.Tabulator(annotator.df.rename(columns={'start[Time]': 'start', 'end[Time]': 'end'}).reset_index(drop=True),\n",
    "                         pagination='local',\n",
    "                         page_size=10,\n",
    "                         layout='fit_data_fill',\n",
    "                         editors={'index': None,\n",
    "                                  'category': {'type': 'list', 'valuesLookup': True},\n",
    "                                  'start': {'type': 'float'},\n",
    "                                  'end': {'type': 'float'},\n",
    "                                 },\n",
    "                        ),\n",
    "    pn.layout.Divider(),\n",
    "    pn.pane.Markdown('### Create New'),\n",
    "    pn.widgets.Select(name='category', value=unique_categories[0], options=unique_categories,),\n",
    "    pn.Row(pn.widgets.FloatInput(name='start', width=80),\n",
    "           pn.widgets.FloatInput(name='end', width=80),\n",
    "           pn.widgets.Button(name='Add',\n",
    "                             width=80,\n",
    "                             align='end',\n",
    "                             icon='hand-click',\n",
    "                             button_type='primary')\n",
    "          ),\n",
    "    pn.layout.Divider(),\n",
    "    pn.pane.Markdown('### Save or Revert'),\n",
    "    pn.Row(pn.widgets.Button(name='Save Changes',\n",
    "                 icon='device-floppy',\n",
    "                 button_type='success',\n",
    "                  align='end'),\n",
    "    pn.widgets.Button(name='Revert Changes',\n",
    "             icon='arrow-back-up',\n",
    "             button_type='warning',\n",
    "              align='end')\n",
    "          ),\n",
    "    pn.layout.Divider(),\n",
    "    pn.pane.Markdown('### Old'),\n",
    "    annotator_tools,\n",
    "    margin=(40,10),\n",
    ")"
   ]
  },
  {
   "cell_type": "markdown",
   "id": "6b1a7b72-a368-4248-a183-27e5b474a3d8",
   "metadata": {},
   "source": [
    "## Display Widgets with Plot"
   ]
  },
  {
   "cell_type": "markdown",
   "id": "56619b1f-f8e6-48a9-a1bf-649a7ca98604",
   "metadata": {},
   "source": [
    "- TODO: the rangelink tool doesn't work in the y-dim when annotations are overlaid\n",
    "- TODO: The color of newly created annotations should match the active category prior to 'apply changes'\n",
    "- TODO: This should be automatic.. we should have to extract something from the annotator to then overlay.. you should be able to just overlay it like app * annotator.\n",
    "- TODO: Why do we have to re-apply some the opts to the new composite curves overlay but not the minimap? Seems like a bug\n",
    "- TODO: It's pretty weird that we need to set a min_height for the pn.Column\n",
    "- TODO: I get an error when trying to add a new annotation\n",
    "- TODO: why is it so slow to change the visibility of the categories? Actually it stopped working altogether\n",
    "- TODO: color the uncommited rows of the table and have an additional column 'Commited'\n",
    "- TODO: propagate edits directly on the tabulator table\n",
    "- TODO: change the GUI buttons to something reasonable.. a 'commit' button should change style if there are uncommitted changes\n",
    "- TODO: the pan tool is selected but there's seemingly no way to use it while the annotator is active and takes over the click and drag"
   ]
  },
  {
   "cell_type": "code",
   "execution_count": null,
   "id": "a3316ec4-6a7b-42de-be2e-d08201eb68cc",
   "metadata": {},
   "outputs": [],
   "source": [
    "annotations_overlay = annotator.get_element(\"Time\").opts(show_legend=False, responsive=True)\n",
    "\n",
    "curves_annotations = (curves_overlay * annotations_overlay).opts(\n",
    "    ylabel=\"Channel\",\n",
    "    show_legend=False,\n",
    "    responsive=True,\n",
    ")\n",
    "\n",
    "app_w_annotations = pn.Column((curves_annotations + minimap * annotations_overlay).cols(1), min_height=800, sizing_mode='stretch_both')\n",
    "widget_app_annotations = pn.Row(widgets, app_w_annotations)\n",
    "widget_app_annotations"
   ]
  },
  {
   "cell_type": "markdown",
   "id": "a5eb7dd1-939b-46c1-9db5-d737a1290794",
   "metadata": {},
   "source": [
    "## Served app"
   ]
  },
  {
   "cell_type": "markdown",
   "id": "e36404d4-f643-43a3-942c-8ded4adb6ac5",
   "metadata": {},
   "source": [
    "TODO: how to fit the tabulator table in the sidebar of the served app"
   ]
  },
  {
   "cell_type": "code",
   "execution_count": null,
   "id": "725fbc96-d1b9-41c7-945b-2dfdfaca1043",
   "metadata": {},
   "outputs": [],
   "source": [
    "template = pn.template.BootstrapTemplate(\n",
    "    title='Multi-Channel Timeseries App - Time Annotations ',\n",
    "    main = [app_w_annotations],\n",
    "    sidebar=[widgets],\n",
    ")\n",
    "template.servable();"
   ]
  },
  {
   "cell_type": "code",
   "execution_count": null,
   "id": "a93f4c4c-667e-4a53-a925-23481c34ba24",
   "metadata": {},
   "outputs": [],
   "source": []
  }
 ],
 "metadata": {
  "kernelspec": {
   "display_name": "Python 3 (ipykernel)",
   "language": "python",
   "name": "python3"
  },
  "language_info": {
   "codemirror_mode": {
    "name": "ipython",
    "version": 3
   },
   "file_extension": ".py",
   "mimetype": "text/x-python",
   "name": "python",
   "nbconvert_exporter": "python",
   "pygments_lexer": "ipython3",
   "version": "3.12.2"
  }
 },
 "nbformat": 4,
 "nbformat_minor": 5
}
