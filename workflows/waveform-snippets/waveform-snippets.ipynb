{
 "cells": [
  {
   "cell_type": "markdown",
   "id": "ebfe418d-535f-4776-a873-ef08786fc0a7",
   "metadata": {
    "tags": []
   },
   "source": [
    "# Waveform Snippets\n",
    "\n",
    "<div style=\"text-align: center;\">\n",
    "    <img src=\"./assets/2024-02-20_waveform.png\" alt=\"waveform preview\" width=\"450\"/>\n",
    "</div>"
   ]
  },
  {
   "cell_type": "markdown",
   "id": "a6cda106-f458-4b96-8f2d-0a8b04c18ee9",
   "metadata": {},
   "source": [
    "## Summary"
   ]
  },
  {
   "cell_type": "markdown",
   "id": "551cbe8b-521d-41e6-aa30-8461c2d059f2",
   "metadata": {},
   "source": [
    "Plotting hundreds or thousands of overlapping time-series snippets relative to a set of event-times is important for pattern discovery in many domains like finance, sensor monitoring, and neuroscience. In neuroscience, this visualization approach is often used to reveal distinct patterns across action potential waveforms from different neurons. This waveform snippets workflow will demonstrate how to display many overlapping action potential waveform snippets from multiple neurons in a single plot."
   ]
  },
  {
   "cell_type": "markdown",
   "id": "eb330785-240e-488e-868e-bf1aab607daa",
   "metadata": {},
   "source": [
    "## Imports and config"
   ]
  },
  {
   "cell_type": "markdown",
   "id": "f68fd96c-0034-4803-a5f5-327a369e17cb",
   "metadata": {},
   "source": [
    "<div class=\"admonition alert alert-info\">\n",
    "    <p class=\"admonition-title\" style=\"font-weight:bold\">Requirements</p>\n",
    "    <p>This workflow notebook requires the <a href=\"./environment.yml\">environment</a> specified in this workflow directory.</p>\n",
    "</div>\n"
   ]
  },
  {
   "cell_type": "code",
   "execution_count": null,
   "id": "cf6385b3-b630-483e-9e97-0cfc62cf6e53",
   "metadata": {
    "tags": []
   },
   "outputs": [],
   "source": [
    "import numpy as np\n",
    "import pandas as pd\n",
    "\n",
    "import hvplot.pandas\n",
    "import holoviews as hv; hv.extension('bokeh')\n",
    "from holoviews.operation.datashader import datashade, shade, dynspread, spread, rasterize\n",
    "import datashader as ds\n",
    "import panel as pn; pn.extension()\n"
   ]
  },
  {
   "cell_type": "markdown",
   "id": "2d882254",
   "metadata": {},
   "source": [
    "## Data Intake"
   ]
  },
  {
   "cell_type": "markdown",
   "id": "39c21fd5",
   "metadata": {},
   "source": [
    "Let's load a sample dataset of neural waveforms:"
   ]
  },
  {
   "cell_type": "code",
   "execution_count": null,
   "id": "0b95a131",
   "metadata": {},
   "outputs": [],
   "source": [
    "waves = pd.read_parquet(\"https://datasets.holoviz.org/waveform/v1/waveforms.parq\")"
   ]
  },
  {
   "cell_type": "code",
   "execution_count": null,
   "id": "5881dbc8",
   "metadata": {},
   "outputs": [],
   "source": [
    "waves.sample(10)"
   ]
  },
  {
   "cell_type": "markdown",
   "id": "365d044f",
   "metadata": {},
   "source": [
    "## Data Exploration"
   ]
  },
  {
   "cell_type": "markdown",
   "id": "b086f213",
   "metadata": {},
   "source": [
    "A sampling of this dataset suggests that it contains a lot of neural waveform snippets. To grasp its structure, we could use pandas utilizies to examine the length of each waveform and count of waveforms per neuron:"
   ]
  },
  {
   "cell_type": "code",
   "execution_count": null,
   "id": "504ef964",
   "metadata": {},
   "outputs": [],
   "source": [
    "first_waveform = waves[(waves['Neuron'] == waves['Neuron'].unique()[0]) & (waves['Waveform'] == 0)]\n",
    "print(f'Number of samples per waveform: {len(first_waveform)}')\n",
    "waves.groupby('Neuron')['Waveform'].nunique().reset_index().rename(columns={'Waveform': '# Waveforms'})"
   ]
  },
  {
   "cell_type": "markdown",
   "id": "fedc9308",
   "metadata": {},
   "source": [
    "Alternatively, we could just use hvPlot to visualize the data, applying `groupby` to `Neuron` and `Waveform` to create widgets that allow us to select values for those fields and see a single waveform at a time:"
   ]
  },
  {
   "cell_type": "code",
   "execution_count": null,
   "id": "f91fb448",
   "metadata": {},
   "outputs": [],
   "source": [
    "simple_waves_app = waves.hvplot.line(x='Time', y='Amplitude', line_width=2, grid=True, groupby=['Neuron', 'Waveform'])\n",
    "simple_waves_app"
   ]
  },
  {
   "cell_type": "markdown",
   "id": "e10b7551",
   "metadata": {},
   "source": [
    "However, what we really want is to overlay all the waveform snippets together in order to see if each individual neuron's waveforms form a consistent pattern, and whether the waveforms across the different neurons are distinguishable.\n",
    "\n",
    "The first approach we can take is to use the `by` argument in hvPlot to color by Neuron and set the alpha (transparency) so we can see through the waveforms."
   ]
  },
  {
   "cell_type": "code",
   "execution_count": null,
   "id": "e216b3c2",
   "metadata": {},
   "outputs": [],
   "source": [
    "overlaid_waves = waves.hvplot.line(x='Time', y='Amplitude', line_width=2, grid=True, by=['Neuron'], alpha=0.5)\n",
    "overlaid_waves"
   ]
  },
  {
   "cell_type": "markdown",
   "id": "5af4e7d2",
   "metadata": {},
   "source": [
    "However, there are a couple of issues with this approach above. First, sending **all** the data to the browser will not be scalable beyond a few thousand lines or a couple hundred thousand points. Second, this approach does not reveal the patterns of density. Alternatively, if we would have tried `by = ['Neuron', 'Waveform']`, this would have taken over a minute to display and would have produced the ugly and uninformative mess below, since it's trying to color by every Neuron and Waveform pairing (below is a just a screenshot to avoid making your browser angry)."
   ]
  },
  {
   "cell_type": "markdown",
   "id": "aa439fa9",
   "metadata": {},
   "source": [
    "<div style=\"text-align: center;\">\n",
    "    <img src=\"./assets/waveform_bad.png\" alt=\"waveform bad\" width=\"500\"/>\n",
    "</div>"
   ]
  },
  {
   "cell_type": "markdown",
   "id": "32e6b1ca",
   "metadata": {},
   "source": [
    "With a substantial number of waveforms and multple categories (neurons), clear visualization of data densities with a simple API becomes a challenge. Luckily, we can utilize Datashader, via the hvPlot interface, to reveal all the data."
   ]
  },
  {
   "cell_type": "markdown",
   "id": "75a8d04f",
   "metadata": {},
   "source": [
    "But first, one caveat: For Datashader, each waveform must be distinctly separated in the dataframe with a NaN row to effectively separate one waveform from another and still color by neuron. This ensures each waveform is treated as an individual entity, avoiding misleading connections between the end of one waveform and the start of the next. Below, we can see one of these NaN rows at the end of the first waveform. These have been added to the sample dataset already, so we don't need to worry about that now."
   ]
  },
  {
   "cell_type": "code",
   "execution_count": null,
   "id": "dc7fbd6c",
   "metadata": {},
   "outputs": [],
   "source": [
    "first_waveform.tail(3)"
   ]
  },
  {
   "cell_type": "markdown",
   "id": "0007d222-44c3-4472-a76e-8c00e6e3bd26",
   "metadata": {},
   "source": [
    "<div class=\"alert alert-info\">\n",
    "\n",
    "<b>Note:</b> Work is already underway to avoid having to prepare your dataset with NaN-separators. Stay tuned!\n",
    "\n",
    "</div>"
   ]
  },
  {
   "cell_type": "markdown",
   "id": "b30931a9",
   "metadata": {},
   "source": [
    "Now, all we need to do is specify that hvPlot should color by neuron and apply datashader's `rasterize`. We'll also wrap this in a Panel `Column` so we can optionally and selectively display this figure outside of a Jupyter notebook by running `panel serve workflow_waveform-snippets.ipynb --show`"
   ]
  },
  {
   "cell_type": "code",
   "execution_count": null,
   "id": "8a1113f3",
   "metadata": {},
   "outputs": [],
   "source": [
    "pn.Row(waves.hvplot.line('Time', 'Amplitude', by='Neuron', rasterize=True,\n",
    "                  xlabel='Time (ms)', ylabel='Amplitude (µV)', title=\"Waveform Snippets\", \n",
    "                  cmap='viridis', colorbar=False, hover=True, line_width=1,\n",
    "                  responsive=True, min_height=400, min_width=800)).servable()"
   ]
  },
  {
   "cell_type": "markdown",
   "id": "6e971aa7",
   "metadata": {},
   "source": [
    "Now, we can quickly visualize the densities of the individual neurons' waveforms and easily compare across neurons. Furthermore, if you are running this notebook locally with a live python process (rather than on a website), then you can zoom in and see how Datashader will adjust the resolution to the new plot ranges, as demonstrated below by setting the `xlim` and `ylim` to mimic zooming interaction:"
   ]
  },
  {
   "cell_type": "code",
   "execution_count": null,
   "id": "35cd170d",
   "metadata": {
    "tags": []
   },
   "outputs": [],
   "source": [
    "waves.hvplot.line('Time', 'Amplitude', by='Neuron', rasterize=True,\n",
    "                  xlabel='Time (ms)', ylabel='Amplitude (µV)', title=\"Waveform Snippets\", \n",
    "                  cmap='viridis', colorbar=False, hover=True, line_width=1,\n",
    "                  responsive=True, min_height=400, min_width=800, xlim=(0.6, 0.9), ylim=(-40, 40))"
   ]
  },
  {
   "cell_type": "code",
   "execution_count": null,
   "id": "46d08b1c-6383-49c0-94c7-c79b3f487f3d",
   "metadata": {},
   "outputs": [],
   "source": []
  }
 ],
 "metadata": {
  "kernelspec": {
   "display_name": "Python 3 (ipykernel)",
   "language": "python",
   "name": "python3"
  },
  "language_info": {
   "codemirror_mode": {
    "name": "ipython",
    "version": 3
   },
   "file_extension": ".py",
   "mimetype": "text/x-python",
   "name": "python",
   "nbconvert_exporter": "python",
   "pygments_lexer": "ipython3",
   "version": "3.9.19"
  }
 },
 "nbformat": 4,
 "nbformat_minor": 5
}
