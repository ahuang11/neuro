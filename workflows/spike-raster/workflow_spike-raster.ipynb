{
 "cells": [
  {
   "cell_type": "markdown",
   "id": "7e56811d-a6f7-4bf5-92b7-452637055e7a",
   "metadata": {
    "tags": []
   },
   "source": [
    "# Spike Raster\n",
    "![status](https://img.shields.io/badge/status-in%20progress-orange)\n",
    "\n",
    "<div style=\"text-align: center;\">\n",
    "    <img src=\"./assets/230524_spike-raster.png\" alt=\"spike raster preview\" width=\"450\"/>\n",
    "</div>\n"
   ]
  },
  {
   "cell_type": "markdown",
   "id": "87549fa4-85cf-44ed-994f-0dcd9739b06a",
   "metadata": {},
   "source": [
    "## Summary\n",
    "\n",
    "The proposed spike raster viewer workflow will handle large-scale neuronal spike time data, offering an efficient scatter-plot-like API with rich interactivity. It will provide linked aggregate views for spike counts over time and channels and manages spike-level metadata, such as motif-group color-coding, for a detailed data presentation."
   ]
  },
  {
   "cell_type": "markdown",
   "id": "445644dc-5f61-4d88-8e90-1a6321bb0823",
   "metadata": {},
   "source": [
    "## Imports and config"
   ]
  },
  {
   "cell_type": "markdown",
   "id": "ab520248-59af-422c-b588-74c128378ed7",
   "metadata": {},
   "source": [
    "<div class=\"admonition alert alert-info\">\n",
    "    <p class=\"admonition-title\" style=\"font-weight:bold\">Requirements</p>\n",
    "    <p>This workflow notebook requires the <a href=\"./environment.yml\">environment</a> specified in this workflow directory.</p>\n",
    "</div>\n"
   ]
  },
  {
   "cell_type": "code",
   "execution_count": null,
   "id": "b84c8f85-43e8-42eb-b66d-2bf225a0f1ab",
   "metadata": {
    "tags": []
   },
   "outputs": [],
   "source": [
    "from neurodatagen.ephys import sim_spikes, assign_groups\n",
    "import holoviews as hv\n",
    "hv.extension('bokeh')"
   ]
  },
  {
   "cell_type": "markdown",
   "id": "e789631e-4219-4f81-9c41-09e28a1c0f2b",
   "metadata": {},
   "source": [
    "## Generate spike time data"
   ]
  },
  {
   "cell_type": "markdown",
   "id": "55d86474-888c-480e-b477-18e7dac4cf2b",
   "metadata": {},
   "source": [
    "The `sim_spikes` function simulates spike times for a given number of neurons, each with a specified firing rate, over a particular duration. It calculates the expected number of spikes per neuron using a Poisson distribution, generates the corresponding spike times using a uniform distribution, assigns these times to the neurons, and then returns a pandas DataFrame containing the spike times and neuron IDs, sorted by the spike times.\n",
    "\n",
    "The function `assign_groups` bins the spike times into a specified number of groups over time, using a probabilistic approach to mimic some amount of overlap in time of the grouping."
   ]
  },
  {
   "cell_type": "code",
   "execution_count": null,
   "id": "71e99483-6be9-456a-b8d4-e0031e133236",
   "metadata": {
    "tags": []
   },
   "outputs": [],
   "source": [
    "n_neurons = 50\n",
    "firing_rate = 1 # Hz\n",
    "duration = 30 # seconds\n",
    "n_groups = 4\n",
    "\n",
    "spikes_df = sim_spikes(n_neurons, firing_rate, duration)\n",
    "spikes_df['group'] = assign_groups(spikes_df.time, n_groups)"
   ]
  },
  {
   "cell_type": "code",
   "execution_count": null,
   "id": "95fbc4a8-ccc8-479a-89c7-aa8976d9933a",
   "metadata": {
    "tags": []
   },
   "outputs": [],
   "source": [
    "spikes_df.tail()"
   ]
  },
  {
   "cell_type": "markdown",
   "id": "501a9b18-a502-4a9c-a95a-0ae0b1d1b56b",
   "metadata": {},
   "source": [
    "## Visualize synthetic spike time data"
   ]
  },
  {
   "cell_type": "markdown",
   "id": "212ce3d9-c8d1-4cf3-9fbd-0c9c00799cff",
   "metadata": {},
   "source": [
    "### Version 1: For loop to set `position` of each hv.Spike series for each neuron"
   ]
  },
  {
   "cell_type": "code",
   "execution_count": null,
   "id": "bce75760-09fd-4744-b934-7ce5b9a794f4",
   "metadata": {
    "tags": []
   },
   "outputs": [],
   "source": [
    "spike_train_opts = {'color':'group',  'cmap':'category10', \n",
    "                        'spike_length':.95, 'tools':['hover']}\n",
    "\n",
    "overlay_opts = {'ylabel':'Neuron', 'xlabel':'Time (s)', 'show_grid':True, \n",
    "                         'padding':0.01, 'width':500, 'height':500, 'show_legend':False}\n",
    "        \n",
    "# group the DataFrame by the neuron ID col and sort the resulting groups by key\n",
    "spike_groups = sorted(spikes_df.groupby('neuron'), key=lambda x: x[0])\n",
    "    \n",
    "spikes_dict = {}\n",
    "for ineuron, ispikes in spike_groups:\n",
    "    spikes_dict[ineuron] = hv.Spikes(ispikes).opts(position=ineuron-.5, **spike_train_opts)\n",
    "\n",
    "hv.NdOverlay(spikes_dict, kdims=overlay_opts['ylabel']).opts(yticks=spikes_dict.keys, **overlay_opts)\n",
    "    "
   ]
  },
  {
   "cell_type": "markdown",
   "id": "88037203-ebe6-43ad-a787-448350d54648",
   "metadata": {},
   "source": [
    "### Version 2: hvPlot with rotated dash as marker"
   ]
  },
  {
   "cell_type": "markdown",
   "id": "0a8bb501-406c-4809-be26-248b8fdc2d2a",
   "metadata": {},
   "source": [
    "- The problem with this implementation is that the markers don't scale when zooming in or out"
   ]
  },
  {
   "cell_type": "code",
   "execution_count": null,
   "id": "8c20c135-c210-4dd7-9f52-020fb6bc196c",
   "metadata": {
    "tags": []
   },
   "outputs": [],
   "source": [
    "import hvplot.pandas\n",
    "\n",
    "scatter_opts = {'cmap':'category10', 'ylabel':'Neuron', 'xlabel':'Time (s)', 'grid':True, \n",
    "                    'size':50, 'tools':['hover'], 'padding':0.01, 'width':500, 'height':500, \n",
    "                    'legend':False, 'colorbar':False, 'marker':'dash', 'angle':90, 'color':'group'}\n",
    "\n",
    "spikes_df.hvplot.scatter('time', 'neuron', **scatter_opts)"
   ]
  },
  {
   "cell_type": "markdown",
   "id": "fa311656-8b2e-4868-b462-cb408a70e96b",
   "metadata": {},
   "source": [
    "## Load and plot real data"
   ]
  },
  {
   "cell_type": "code",
   "execution_count": null,
   "id": "13655707-b35d-4048-bbd6-77ce885866da",
   "metadata": {},
   "outputs": [],
   "source": []
  }
 ],
 "metadata": {
  "kernelspec": {
   "display_name": "Python 3 (ipykernel)",
   "language": "python",
   "name": "python3"
  },
  "language_info": {
   "codemirror_mode": {
    "name": "ipython",
    "version": 3
   },
   "file_extension": ".py",
   "mimetype": "text/x-python",
   "name": "python",
   "nbconvert_exporter": "python",
   "pygments_lexer": "ipython3",
   "version": "3.9.16"
  }
 },
 "nbformat": 4,
 "nbformat_minor": 5
}
